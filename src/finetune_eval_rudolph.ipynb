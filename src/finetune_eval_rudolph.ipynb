{
  "cells": [
    {
      "cell_type": "markdown",
      "metadata": {
        "id": "by_zeAG1KJjr"
      },
      "source": [
        "## RuDOLPH 350M finetuning\n",
        "\n",
        "пример кода взят отсюда: https://github.com/ai-forever/ru-dolph"
      ]
    },
    {
      "cell_type": "code",
      "execution_count": null,
      "metadata": {
        "id": "1xo-LHI2Y8TL"
      },
      "outputs": [],
      "source": [
        "import warnings\n",
        "warnings.filterwarnings(\"ignore\")"
      ]
    },
    {
      "cell_type": "code",
      "execution_count": null,
      "metadata": {
        "colab": {
          "base_uri": "https://localhost:8080/"
        },
        "id": "9fERWrlrDVa7",
        "outputId": "3afc1114-e0df-43ba-9e9f-5ebe28d7a2fa"
      },
      "outputs": [
        {
          "output_type": "stream",
          "name": "stdout",
          "text": [
            "Mounted at /content/drive\n"
          ]
        }
      ],
      "source": [
        "from google.colab import drive\n",
        "drive.mount('/content/drive')"
      ]
    },
    {
      "cell_type": "code",
      "execution_count": null,
      "metadata": {
        "colab": {
          "base_uri": "https://localhost:8080/"
        },
        "id": "Nu_BqrMGPPdS",
        "outputId": "7d950e51-0e99-4ea5-b231-59aca3b58be7"
      },
      "outputs": [
        {
          "output_type": "stream",
          "name": "stdout",
          "text": [
            "/content/drive/MyDrive/DL memes/meme-captions\n"
          ]
        }
      ],
      "source": [
        "%cd /content/drive/MyDrive/DL memes/meme-captions"
      ]
    },
    {
      "cell_type": "code",
      "execution_count": null,
      "metadata": {
        "id": "sTdgqeRogfGX",
        "colab": {
          "base_uri": "https://localhost:8080/"
        },
        "outputId": "c0978770-7af8-4b1c-9ff8-278fdfc41b51"
      },
      "outputs": [
        {
          "output_type": "stream",
          "name": "stdout",
          "text": [
            "\u001b[31mERROR: pip's dependency resolver does not currently take into account all the packages that are installed. This behaviour is the source of the following dependency conflicts.\n",
            "datascience 0.10.6 requires folium==0.2.1, but you have folium 0.8.3 which is incompatible.\n",
            "albumentations 0.1.12 requires imgaug<0.2.7,>=0.2.5, but you have imgaug 0.2.9 which is incompatible.\u001b[0m\n"
          ]
        }
      ],
      "source": [
        "!pip install rudolph==0.0.1rc8 > /dev/null\n",
        "!pip install bitsandbytes-cuda111 > /dev/null\n",
        "!pip install wandb > /dev/null"
      ]
    },
    {
      "cell_type": "code",
      "execution_count": null,
      "metadata": {
        "id": "D1R3P6LREaCf"
      },
      "outputs": [],
      "source": [
        "import os\n",
        "import sys\n",
        "import random\n",
        "from collections import Counter\n",
        "\n",
        "import PIL\n",
        "import torch\n",
        "import numpy as np\n",
        "import pandas as pd\n",
        "import bitsandbytes as bnb\n",
        "import torchvision.transforms as T\n",
        "import torchvision.transforms.functional as TF\n",
        "from tqdm import tqdm\n",
        "from wordcloud import WordCloud\n",
        "from matplotlib import pyplot as plt\n",
        "from torch.utils.data import Dataset, DataLoader\n",
        "from rudalle import get_tokenizer, get_vae\n",
        "from rudalle.utils import seed_everything\n",
        "\n",
        "from rudolph.model.utils import get_attention_mask\n",
        "from rudolph.model import get_rudolph_model, ruDolphModel, FP16Module\n",
        "from rudolph.pipelines import generate_codebooks, self_reranking_by_image, self_reranking_by_text, show, generate_captions, generate_texts, zs_clf\n",
        "from rudolph import utils"
      ]
    },
    {
      "cell_type": "markdown",
      "metadata": {
        "id": "KJ7uafXofBVB"
      },
      "source": [
        "# Загрузка модели и параметров"
      ]
    },
    {
      "cell_type": "code",
      "execution_count": null,
      "metadata": {
        "colab": {
          "base_uri": "https://localhost:8080/",
          "height": 220,
          "referenced_widgets": [
            "e68d435b09d2493a8ed5536b1dd9034e",
            "73abf68380d543d08155c48f3e3e78b5",
            "1330b13063484f08b22999bada627f9e",
            "83ed5db7db7642f19a59e84bcbeb7f7a",
            "06892a33a12641c0b537e401afbf72da",
            "b544e2dc12604c24b07738bd448fe309",
            "24c58c26298e46698f6f2c059dd6b657",
            "944485b7fdac45f9b44c5c76b8c19fc2",
            "adbd5f3e905643fb9cd41f270dc3bb31",
            "6357742178f44a368230d6949405d87e",
            "27d4f7b4b5ec4d44b35c30985d8ce756",
            "b1a3328b530d403b9bd2093e072ec5ae",
            "a4cb82d6cc714a8cacc397e8f8c79eb7",
            "ad812fa49eed4ec7871e4d901399514f",
            "5f2af5ff6d8449209fcfffad18baf5c3",
            "0a3928baa54944a5baf5992f5aeacc48",
            "5df421b7f9614831b72026ee799f35f2",
            "e3d4956661fb490ba0e5cdf188cd2ecc",
            "f422914f62784653aa7ae7c089ee3d12",
            "2314d46d16324a92aebee1295e4d7942",
            "778c20a678d14176a86ef7362277efac",
            "c59d439b07324655845d444032559958",
            "404c78f4279946e4abb69520be7e5bf2",
            "d1e38397dd534fdfaae228e9557d9c41",
            "2e93ee601da44d97988293e09b95a291",
            "adb1f604bc934dac9141a46ad3be8efa",
            "fa3cd37481fa42619f8a3b4ee05b1d18",
            "8358c0a4aa174e95bcbb6c0934ed2d9e",
            "8f0a61d819c74b7e91c7110218522190",
            "609595a08b7f400293a747d56ae57691",
            "69aee5d7b80646db96f3420a7f14e221",
            "6a26d4acbf3c4e129b5083b4d057f0e0",
            "d768af82ff534f3ea70d27a6b324dd5d"
          ]
        },
        "id": "4v1KNh9kFEwo",
        "outputId": "4db34231-c7db-47fe-ce0b-0de060f1a2f5"
      },
      "outputs": [
        {
          "output_type": "display_data",
          "data": {
            "text/plain": [
              "Downloading:   0%|          | 0.00/707M [00:00<?, ?B/s]"
            ],
            "application/vnd.jupyter.widget-view+json": {
              "version_major": 2,
              "version_minor": 0,
              "model_id": "e68d435b09d2493a8ed5536b1dd9034e"
            }
          },
          "metadata": {}
        },
        {
          "output_type": "stream",
          "name": "stdout",
          "text": [
            "Russian Diffusion On Language Picture Hyper-modality (RuDOLPH 🦌🎄☃️) 350M is a fast and light text-image-text transformer (350M GPT-3) designed for a quick and easy fine-tuning setup for the solution of various tasks: from generating images by text description and image classification to visual question answering and more. \n",
            "This model demonstrates the power of Hyper-modality Transformers.\n"
          ]
        },
        {
          "output_type": "display_data",
          "data": {
            "text/plain": [
              "Downloading:   0%|          | 0.00/224k [00:00<?, ?B/s]"
            ],
            "application/vnd.jupyter.widget-view+json": {
              "version_major": 2,
              "version_minor": 0,
              "model_id": "b1a3328b530d403b9bd2093e072ec5ae"
            }
          },
          "metadata": {}
        },
        {
          "output_type": "stream",
          "name": "stdout",
          "text": [
            "tokenizer --> ready\n",
            "Working with z of shape (1, 256, 32, 32) = 262144 dimensions.\n"
          ]
        },
        {
          "output_type": "display_data",
          "data": {
            "text/plain": [
              "Downloading:   0%|          | 0.00/346M [00:00<?, ?B/s]"
            ],
            "application/vnd.jupyter.widget-view+json": {
              "version_major": 2,
              "version_minor": 0,
              "model_id": "404c78f4279946e4abb69520be7e5bf2"
            }
          },
          "metadata": {}
        },
        {
          "output_type": "stream",
          "name": "stdout",
          "text": [
            "vae --> ready\n"
          ]
        }
      ],
      "source": [
        "device = torch.device('cuda' if torch.cuda.is_available() else 'cpu')\n",
        "\n",
        "model = get_rudolph_model('350M',  fp16=True, device=device)\n",
        "tokenizer = get_tokenizer()\n",
        "vae = get_vae(dwt=False).to(device)"
      ]
    },
    {
      "cell_type": "code",
      "execution_count": null,
      "metadata": {
        "id": "SdLqzqTth6rG"
      },
      "outputs": [],
      "source": [
        "class Args():\n",
        "    def __init__(self, model):\n",
        "        self.device = model.get_param('device')\n",
        "        self.l_text_seq_length = model.get_param('l_text_seq_length')\n",
        "        self.r_text_seq_length = model.get_param('r_text_seq_length')\n",
        "        self.image_tokens_per_dim = model.get_param('image_tokens_per_dim')\n",
        "        self.image_seq_length = model.get_param('image_seq_length')\n",
        "        self.epochs = 20\n",
        "        self.save_path='models/rudolph/'\n",
        "        self.model_name = 'rudolph_'\n",
        "        self.save_every = 1\n",
        "        self.bs = 5\n",
        "        self.clip = 1.0\n",
        "        self.lr = 2e-5\n",
        "        self.wandb = False\n",
        "        self.lt_loss_weight = 0.01\n",
        "        self.img_loss_weight = 1\n",
        "        self.rt_loss_weight = 7\n",
        "        self.image_size = self.image_tokens_per_dim * 8\n",
        "\n",
        "args = Args(model)\n",
        "if not os.path.exists(args.save_path):\n",
        "    os.makedirs(args.save_path)"
      ]
    },
    {
      "cell_type": "markdown",
      "metadata": {
        "id": "aMkgGJu_K8xJ"
      },
      "source": [
        "# Подготовка данных"
      ]
    },
    {
      "cell_type": "code",
      "execution_count": null,
      "metadata": {
        "id": "pWyl_NxI1zZ7"
      },
      "outputs": [],
      "source": [
        "class Data(Dataset):\n",
        "    def __init__(self, image_path, data_path, tokenizer, shuffle=True):\n",
        "        self.image_path = image_path\n",
        "        self.samples = []\n",
        "        self.tokenizer = tokenizer\n",
        "        # загружаем id картинок и их captions\n",
        "        with open(data_path, 'r') as f:\n",
        "            f.readline()\n",
        "            for line in f:\n",
        "                uid, caption = line.strip().split('\\t')\n",
        "                self.samples.append([f\"{uid}.jpg\", caption])\n",
        "\n",
        "        self.image_transform = T.Compose([\n",
        "            T.Lambda(lambda img: img.convert('RGB') if img.mode != 'RGB' else img),\n",
        "            T.Resize((args.image_size, args.image_size)),\n",
        "            T.ToTensor()\n",
        "        ])\n",
        "\n",
        "\n",
        "        if shuffle:\n",
        "            np.random.shuffle(self.samples)\n",
        "            print('Shuffled')\n",
        "\n",
        "    def load_image(self, img_name):\n",
        "        return PIL.Image.open(os.path.join(self.image_path, img_name))\n",
        "\n",
        "    def __getitem__(self, item):\n",
        "        item = item % len(self.samples)\n",
        "        img_name, text = self.samples[item]\n",
        "\n",
        "        try:\n",
        "            image = self.load_image(img_name)\n",
        "            image = self.image_transform(image)\n",
        "        except Exception as err:  \n",
        "            print(err)\n",
        "            random_item = random.randint(0, len(self.samples) - 1)\n",
        "            return self.__getitem__(random_item)\n",
        "        \n",
        "        text = text.lower().strip()\n",
        "        encoded = self.tokenizer.encode_text(text, text_seq_length=args.r_text_seq_length)       \n",
        "        return encoded, image\n",
        "\n",
        "    def get_text_image(self, item):\n",
        "        item = item % len(self.samples)\n",
        "        img_name, text = self.samples[item]\n",
        "        image = self.load_image(img_name)\n",
        "        image = self.image_transform(image)\n",
        "        text = text.lower().strip()\n",
        "        return text, image\n",
        "\n",
        "    def __len__(self):\n",
        "        return len(self.samples)"
      ]
    },
    {
      "cell_type": "code",
      "execution_count": null,
      "metadata": {
        "colab": {
          "base_uri": "https://localhost:8080/"
        },
        "id": "5Ms0yhmCASvo",
        "outputId": "8c160782-50ef-4167-f5b3-95154df3f3b0"
      },
      "outputs": [
        {
          "output_type": "stream",
          "name": "stdout",
          "text": [
            "Shuffled\n",
            "Shuffled\n"
          ]
        }
      ],
      "source": [
        "train_dataset = Data(image_path='data/memes/images/', data_path='data/memes/train.csv', tokenizer=tokenizer)\n",
        "train_dataloader = DataLoader(train_dataset, batch_size=args.bs, shuffle=True, drop_last=True)\n",
        "\n",
        "val_dataset = Data(image_path='data/memes/images/', data_path='data/memes/val.csv', tokenizer=tokenizer)\n",
        "val_dataloader = DataLoader(val_dataset, batch_size=args.bs, shuffle=False, drop_last=True)"
      ]
    },
    {
      "cell_type": "markdown",
      "metadata": {
        "id": "NzjB2vFEmIaw"
      },
      "source": [
        "# Обучение моделей\n",
        "\n",
        "Обучаю в течение 20 эпох, сохраняю модель с наименьшим лоссом на валидационном датасете\n"
      ]
    },
    {
      "cell_type": "code",
      "execution_count": null,
      "metadata": {
        "id": "SST-4wiWrfFB"
      },
      "outputs": [],
      "source": [
        "def freeze(\n",
        "    model,\n",
        "    freeze_emb=False,\n",
        "    freeze_ln=False,\n",
        "    freeze_attn=True,\n",
        "    freeze_ff=True,\n",
        "    freeze_other=False,\n",
        "):\n",
        "    for name, p in model.named_parameters():\n",
        "        name = name.lower()\n",
        "        if 'ln' in name or 'norm' in name:\n",
        "            p.requires_grad = not freeze_ln\n",
        "        elif 'embeddings' in name:\n",
        "            p.requires_grad = not freeze_emb\n",
        "        elif 'mlp' in name:\n",
        "            p.requires_grad = not freeze_ff\n",
        "        elif 'attn' in name:\n",
        "            p.requires_grad = not freeze_attn\n",
        "        else:\n",
        "            p.requires_grad = not freeze_other\n",
        "    return model"
      ]
    },
    {
      "cell_type": "code",
      "execution_count": null,
      "metadata": {
        "id": "-4GDi4BjHiHr"
      },
      "outputs": [],
      "source": [
        "model.train()\n",
        "optimizer = bnb.optim.Adam8bit(model.parameters(), lr=args.lr)\n",
        "\n",
        "scheduler = torch.optim.lr_scheduler.OneCycleLR(\n",
        "    optimizer, max_lr=args.lr, final_div_factor=500, \n",
        "    steps_per_epoch=len(train_dataloader), epochs=args.epochs \n",
        ")"
      ]
    },
    {
      "cell_type": "code",
      "execution_count": null,
      "metadata": {
        "id": "-hVTQcDF1EbM"
      },
      "outputs": [],
      "source": [
        "def train(model,args: Args, train_dataloader, val_dataloader):\n",
        "\n",
        "    torch.save(model.state_dict(), \n",
        "           os.path.join(args.save_path, \n",
        "                        f\"{args.model_name}_dalle_{0}.pt\"))\n",
        "    train_loss_logs = []\n",
        "    val_loss_logs = []\n",
        "    \n",
        "    best_val_loss = 1000\n",
        "    best_val_model_id = None\n",
        "\n",
        "\n",
        "    for epoch in range(args.epochs):\n",
        "\n",
        "        cur_train_loss = 0\n",
        "\n",
        "        # эпоха обучения\n",
        "        for text, images in tqdm(train_dataloader):\n",
        "\n",
        "            model.train()\n",
        "            model.zero_grad()\n",
        "            total_seq_length = args.l_text_seq_length + args.image_seq_length + args.r_text_seq_length\n",
        "        \n",
        "            masks = torch.ones(args.bs, args.r_text_seq_length, dtype=torch.int32)\n",
        "            attention_mask = get_attention_mask(masks, args.bs, args.l_text_seq_length, args.image_tokens_per_dim,\n",
        "                                                    args.r_text_seq_length, device)\n",
        "            image_input_ids = vae.get_codebook_indices(images.to(device))\n",
        "            r_text = text.to(device)\n",
        "            l_text = torch.zeros((args.bs, args.l_text_seq_length), device=device, dtype=torch.long)\n",
        "            input_ids = torch.cat((l_text, image_input_ids, r_text), dim=1)\n",
        "            loss, loss_values = model.forward(input_ids, attention_mask, lt_loss_weight=args.lt_loss_weight,\n",
        "            img_loss_weight=args.img_loss_weight,rt_loss_weight=args.rt_loss_weight,  return_loss=True)\n",
        "\n",
        "            loss.backward()\n",
        "            torch.nn.utils.clip_grad_norm_(model.parameters(),args.clip)\n",
        "            optimizer.step()\n",
        "            scheduler.step()\n",
        "            optimizer.zero_grad()\n",
        "            \n",
        "            cur_train_loss += loss.item()\n",
        "        \n",
        "\n",
        "\n",
        "        cur_val_loss = 0\n",
        "        # оценка на вал. датасете\n",
        "        for text, images in tqdm(val_dataloader):\n",
        "        \n",
        "            model.eval()\n",
        "            total_seq_length = args.l_text_seq_length + args.image_seq_length + args.r_text_seq_length\n",
        "        \n",
        "            masks = torch.ones(args.bs, args.r_text_seq_length, dtype=torch.int32)\n",
        "            attention_mask = get_attention_mask(masks, args.bs, args.l_text_seq_length, args.image_tokens_per_dim,\n",
        "                                                    args.r_text_seq_length, device)\n",
        "            image_input_ids = vae.get_codebook_indices(images.to(device))\n",
        "            r_text = text.to(device)\n",
        "            l_text = torch.zeros((args.bs, args.l_text_seq_length), device=device, dtype=torch.long)\n",
        "            input_ids = torch.cat((l_text, image_input_ids, r_text), dim=1)\n",
        "            loss, loss_values = model.forward(input_ids, attention_mask, lt_loss_weight=args.lt_loss_weight,\n",
        "            img_loss_weight=args.img_loss_weight,rt_loss_weight=args.rt_loss_weight,  return_loss=True)\n",
        "\n",
        "            cur_val_loss += loss.item()\n",
        "        \n",
        "\n",
        "        cur_val_loss /= len(val_dataloader)\n",
        "        cur_train_loss /= len(train_dataloader)\n",
        "        train_loss_logs += [cur_train_loss]\n",
        "        val_loss_logs += [cur_val_loss]\n",
        "            \n",
        "        if cur_val_loss < best_val_loss:\n",
        "                print(f'Saving checkpoint here {args.model_name}_dalle_best.pt')\n",
        "                plt.plot(train_loss_logs)\n",
        "                plt.plot(val_loss_logs)\n",
        "                plt.show()\n",
        "                torch.save(\n",
        "                    model.state_dict(),\n",
        "                    os.path.join(args.save_path,f\"{args.model_name}_dalle_best.pt\")\n",
        "                )\n",
        "                best_val_loss = cur_val_loss\n",
        "\n",
        "        print(f\"Epoch {epoch+1}, train_loss:{cur_train_loss}, val_loss:{cur_val_loss}\")\n",
        "            \n",
        "    \n",
        "    print(f'Complitly tuned and saved here  {args.model_name}__dalle_last.pt')\n",
        "    plt.plot(train_loss_logs)\n",
        "    plt.plot(val_loss_logs)\n",
        "    plt.show()\n",
        "    torch.save(\n",
        "        model.state_dict(),\n",
        "        os.path.join(args.save_path,f\"{args.model_name}dalle_last.pt\")\n",
        "    )"
      ]
    },
    {
      "cell_type": "code",
      "execution_count": null,
      "metadata": {
        "colab": {
          "base_uri": "https://localhost:8080/",
          "height": 1000
        },
        "id": "dGPS3HnDN3wO",
        "outputId": "49914af0-a24c-4d9e-e8a2-8a8d9dc279bd"
      },
      "outputs": [
        {
          "output_type": "stream",
          "name": "stderr",
          "text": [
            "100%|██████████| 509/509 [24:17<00:00,  2.86s/it]\n",
            "100%|██████████| 109/109 [04:44<00:00,  2.61s/it]"
          ]
        },
        {
          "output_type": "stream",
          "name": "stdout",
          "text": [
            "Saving checkpoint here rudolph__dalle_best.pt\n"
          ]
        },
        {
          "output_type": "stream",
          "name": "stderr",
          "text": [
            "\n"
          ]
        },
        {
          "output_type": "display_data",
          "data": {
            "text/plain": [
              "<Figure size 432x288 with 1 Axes>"
            ],
            "image/png": "[encoded data removed]"
          },
          "metadata": {
            "needs_background": "light"
          }
        },
        {
          "output_type": "stream",
          "name": "stdout",
          "text": [
            "Epoch 1, train_loss:4.617974362813653, val_loss:4.383404263662635\n"
          ]
        },
        {
          "output_type": "stream",
          "name": "stderr",
          "text": [
            "100%|██████████| 509/509 [04:38<00:00,  1.83it/s]\n",
            "100%|██████████| 109/109 [00:34<00:00,  3.15it/s]"
          ]
        },
        {
          "output_type": "stream",
          "name": "stdout",
          "text": [
            "Saving checkpoint here rudolph__dalle_best.pt\n"
          ]
        },
        {
          "output_type": "stream",
          "name": "stderr",
          "text": [
            "\n"
          ]
        },
        {
          "output_type": "display_data",
          "data": {
            "text/plain": [
              "<Figure size 432x288 with 1 Axes>"
            ],
            "image/png": "[encoded data removed]"
          },
          "metadata": {
            "needs_background": "light"
          }
        },
        {
          "output_type": "stream",
          "name": "stdout",
          "text": [
            "Epoch 2, train_loss:4.218300536011432, val_loss:3.9034687750930086\n"
          ]
        },
        {
          "output_type": "stream",
          "name": "stderr",
          "text": [
            "100%|██████████| 509/509 [04:40<00:00,  1.82it/s]\n",
            "100%|██████████| 109/109 [00:34<00:00,  3.15it/s]"
          ]
        },
        {
          "output_type": "stream",
          "name": "stdout",
          "text": [
            "Saving checkpoint here rudolph__dalle_best.pt\n"
          ]
        },
        {
          "output_type": "stream",
          "name": "stderr",
          "text": [
            "\n"
          ]
        },
        {
          "output_type": "display_data",
          "data": {
            "text/plain": [
              "<Figure size 432x288 with 1 Axes>"
            ],
            "image/png": "[encoded data removed]"
          },
          "metadata": {
            "needs_background": "light"
          }
        },
        {
          "output_type": "stream",
          "name": "stdout",
          "text": [
            "Epoch 3, train_loss:3.8435416910175255, val_loss:3.665717431164663\n"
          ]
        },
        {
          "output_type": "stream",
          "name": "stderr",
          "text": [
            "100%|██████████| 509/509 [04:40<00:00,  1.81it/s]\n",
            "100%|██████████| 109/109 [00:34<00:00,  3.15it/s]"
          ]
        },
        {
          "output_type": "stream",
          "name": "stdout",
          "text": [
            "Saving checkpoint here rudolph__dalle_best.pt\n"
          ]
        },
        {
          "output_type": "stream",
          "name": "stderr",
          "text": [
            "\n"
          ]
        },
        {
          "output_type": "display_data",
          "data": {
            "text/plain": [
              "<Figure size 432x288 with 1 Axes>"
            ],
            "image/png": "[encoded data removed]"
          },
          "metadata": {
            "needs_background": "light"
          }
        },
        {
          "output_type": "stream",
          "name": "stdout",
          "text": [
            "Epoch 4, train_loss:3.59428143922847, val_loss:3.5326745575721112\n"
          ]
        },
        {
          "output_type": "stream",
          "name": "stderr",
          "text": [
            "100%|██████████| 509/509 [04:40<00:00,  1.82it/s]\n",
            "100%|██████████| 109/109 [00:34<00:00,  3.11it/s]"
          ]
        },
        {
          "output_type": "stream",
          "name": "stdout",
          "text": [
            "Saving checkpoint here rudolph__dalle_best.pt\n"
          ]
        },
        {
          "output_type": "stream",
          "name": "stderr",
          "text": [
            "\n"
          ]
        },
        {
          "output_type": "display_data",
          "data": {
            "text/plain": [
              "<Figure size 432x288 with 1 Axes>"
            ],
            "image/png": "[encoded data removed]"
          },
          "metadata": {
            "needs_background": "light"
          }
        },
        {
          "output_type": "stream",
          "name": "stdout",
          "text": [
            "Epoch 5, train_loss:3.346517181115441, val_loss:3.4504163921426194\n"
          ]
        },
        {
          "output_type": "stream",
          "name": "stderr",
          "text": [
            "100%|██████████| 509/509 [04:40<00:00,  1.81it/s]\n",
            "100%|██████████| 109/109 [00:34<00:00,  3.15it/s]"
          ]
        },
        {
          "output_type": "stream",
          "name": "stdout",
          "text": [
            "Saving checkpoint here rudolph__dalle_best.pt\n"
          ]
        },
        {
          "output_type": "stream",
          "name": "stderr",
          "text": [
            "\n"
          ]
        },
        {
          "output_type": "display_data",
          "data": {
            "text/plain": [
              "<Figure size 432x288 with 1 Axes>"
            ],
            "image/png": "[encoded data removed]"
          },
          "metadata": {
            "needs_background": "light"
          }
        },
        {
          "output_type": "stream",
          "name": "stdout",
          "text": [
            "Epoch 6, train_loss:3.080585101732805, val_loss:3.4127522980401275\n"
          ]
        },
        {
          "output_type": "stream",
          "name": "stderr",
          "text": [
            "100%|██████████| 509/509 [04:40<00:00,  1.81it/s]\n",
            "100%|██████████| 109/109 [00:34<00:00,  3.14it/s]"
          ]
        },
        {
          "output_type": "stream",
          "name": "stdout",
          "text": [
            "Saving checkpoint here rudolph__dalle_best.pt\n"
          ]
        },
        {
          "output_type": "stream",
          "name": "stderr",
          "text": [
            "\n"
          ]
        },
        {
          "output_type": "display_data",
          "data": {
            "text/plain": [
              "<Figure size 432x288 with 1 Axes>"
            ],
            "image/png": "[encoded data removed]"
          },
          "metadata": {
            "needs_background": "light"
          }
        },
        {
          "output_type": "stream",
          "name": "stdout",
          "text": [
            "Epoch 7, train_loss:2.812371204316265, val_loss:3.4076201478275685\n"
          ]
        },
        {
          "output_type": "stream",
          "name": "stderr",
          "text": [
            "100%|██████████| 509/509 [04:41<00:00,  1.81it/s]\n",
            "100%|██████████| 109/109 [00:34<00:00,  3.13it/s]\n"
          ]
        },
        {
          "output_type": "stream",
          "name": "stdout",
          "text": [
            "Epoch 8, train_loss:2.5591568127128137, val_loss:3.4336821267364224\n"
          ]
        },
        {
          "output_type": "stream",
          "name": "stderr",
          "text": [
            "100%|██████████| 509/509 [04:40<00:00,  1.81it/s]\n",
            "100%|██████████| 109/109 [00:34<00:00,  3.14it/s]\n"
          ]
        },
        {
          "output_type": "stream",
          "name": "stdout",
          "text": [
            "Epoch 9, train_loss:2.340381575708071, val_loss:3.4576070549291207\n"
          ]
        },
        {
          "output_type": "stream",
          "name": "stderr",
          "text": [
            "100%|██████████| 509/509 [04:40<00:00,  1.82it/s]\n",
            "100%|██████████| 109/109 [00:34<00:00,  3.14it/s]\n"
          ]
        },
        {
          "output_type": "stream",
          "name": "stdout",
          "text": [
            "Epoch 10, train_loss:2.1379116553454596, val_loss:3.5006224387282625\n"
          ]
        },
        {
          "output_type": "stream",
          "name": "stderr",
          "text": [
            "100%|██████████| 509/509 [04:40<00:00,  1.81it/s]\n",
            "100%|██████████| 109/109 [00:34<00:00,  3.14it/s]\n"
          ]
        },
        {
          "output_type": "stream",
          "name": "stdout",
          "text": [
            "Epoch 11, train_loss:1.9645770155844848, val_loss:3.554614681716359\n"
          ]
        },
        {
          "output_type": "stream",
          "name": "stderr",
          "text": [
            "100%|██████████| 509/509 [04:40<00:00,  1.82it/s]\n",
            "100%|██████████| 109/109 [00:34<00:00,  3.14it/s]\n"
          ]
        },
        {
          "output_type": "stream",
          "name": "stdout",
          "text": [
            "Epoch 12, train_loss:1.819908956413419, val_loss:3.5991480547353762\n"
          ]
        },
        {
          "output_type": "stream",
          "name": "stderr",
          "text": [
            "100%|██████████| 509/509 [04:40<00:00,  1.81it/s]\n",
            "100%|██████████| 109/109 [00:34<00:00,  3.14it/s]\n"
          ]
        },
        {
          "output_type": "stream",
          "name": "stdout",
          "text": [
            "Epoch 13, train_loss:1.7003789196314183, val_loss:3.638018487790309\n"
          ]
        },
        {
          "output_type": "stream",
          "name": "stderr",
          "text": [
            "100%|██████████| 509/509 [04:41<00:00,  1.81it/s]\n",
            "100%|██████████| 109/109 [00:34<00:00,  3.13it/s]\n"
          ]
        },
        {
          "output_type": "stream",
          "name": "stdout",
          "text": [
            "Epoch 14, train_loss:1.6121855264562521, val_loss:3.6633253447506404\n"
          ]
        },
        {
          "output_type": "stream",
          "name": "stderr",
          "text": [
            "100%|██████████| 509/509 [04:40<00:00,  1.81it/s]\n",
            "100%|██████████| 109/109 [00:34<00:00,  3.12it/s]\n"
          ]
        },
        {
          "output_type": "stream",
          "name": "stdout",
          "text": [
            "Epoch 15, train_loss:1.5475498641638015, val_loss:3.680401215859509\n"
          ]
        },
        {
          "output_type": "stream",
          "name": "stderr",
          "text": [
            "100%|██████████| 509/509 [04:40<00:00,  1.81it/s]\n",
            "100%|██████████| 109/109 [00:34<00:00,  3.14it/s]\n"
          ]
        },
        {
          "output_type": "stream",
          "name": "stdout",
          "text": [
            "Epoch 16, train_loss:1.5097069431147547, val_loss:3.6942308649010616\n"
          ]
        },
        {
          "output_type": "stream",
          "name": "stderr",
          "text": [
            "100%|██████████| 509/509 [04:40<00:00,  1.81it/s]\n",
            "100%|██████████| 109/109 [00:34<00:00,  3.14it/s]\n"
          ]
        },
        {
          "output_type": "stream",
          "name": "stdout",
          "text": [
            "Epoch 17, train_loss:1.4888790583563694, val_loss:3.69322248336372\n"
          ]
        },
        {
          "output_type": "stream",
          "name": "stderr",
          "text": [
            "100%|██████████| 509/509 [04:40<00:00,  1.82it/s]\n",
            "100%|██████████| 109/109 [00:34<00:00,  3.15it/s]\n"
          ]
        },
        {
          "output_type": "stream",
          "name": "stdout",
          "text": [
            "Epoch 18, train_loss:1.4802791011356886, val_loss:3.6958561381068797\n"
          ]
        },
        {
          "output_type": "stream",
          "name": "stderr",
          "text": [
            "100%|██████████| 509/509 [04:40<00:00,  1.81it/s]\n",
            "100%|██████████| 109/109 [00:34<00:00,  3.14it/s]\n"
          ]
        },
        {
          "output_type": "stream",
          "name": "stdout",
          "text": [
            "Epoch 19, train_loss:1.475737204251917, val_loss:3.696475466456982\n"
          ]
        },
        {
          "output_type": "stream",
          "name": "stderr",
          "text": [
            "100%|██████████| 509/509 [04:40<00:00,  1.81it/s]\n",
            "100%|██████████| 109/109 [00:34<00:00,  3.14it/s]"
          ]
        },
        {
          "output_type": "stream",
          "name": "stdout",
          "text": [
            "Epoch 20, train_loss:1.475519789693866, val_loss:3.696930999055915\n",
            "Complitly tuned and saved here  rudolph___dalle_last.pt\n"
          ]
        },
        {
          "output_type": "stream",
          "name": "stderr",
          "text": [
            "\n"
          ]
        },
        {
          "output_type": "display_data",
          "data": {
            "text/plain": [
              "<Figure size 432x288 with 1 Axes>"
            ],
            "image/png": "[encoded data removed]"
          },
          "metadata": {
            "needs_background": "light"
          }
        }
      ],
      "source": [
        "model = freeze(\n",
        "    model=model,\n",
        "    freeze_emb=False,\n",
        "    freeze_ln=False,\n",
        "    freeze_attn=True,\n",
        "    freeze_ff=True,\n",
        "    freeze_other=False,\n",
        ") \n",
        "\n",
        "train(model, args, train_dataloader, val_dataloader)"
      ]
    },
    {
      "cell_type": "markdown",
      "source": [
        "лучшая по лоссу на вал.датасете модель после 6 эпохи"
      ],
      "metadata": {
        "id": "h3grfvVbfLUT"
      }
    },
    {
      "cell_type": "code",
      "source": [
        ""
      ],
      "metadata": {
        "id": "lfQISwdkfRbX"
      },
      "execution_count": null,
      "outputs": []
    },
    {
      "cell_type": "markdown",
      "metadata": {
        "id": "j2Z0sUz0ZtlU"
      },
      "source": [
        "## Evaluation на тестовом датасете "
      ]
    },
    {
      "cell_type": "code",
      "source": [
        "import datetime\n",
        "import more_itertools\n",
        "import transformers\n",
        "\n",
        "def generate_captions(\n",
        "        img,\n",
        "        tokenizer,\n",
        "        model,\n",
        "        vae,\n",
        "        template='',\n",
        "        top_k=32, top_p=0.6, captions_num=128,\n",
        "        temperature=1.0, bs=64,\n",
        "        seed=None, use_cache=True,\n",
        "        limit_eos=True,\n",
        "):\n",
        "    if seed is None:\n",
        "        seed = int((datetime.utcnow().timestamp() * 10 ** 6) % (2 ** 32 - 1))\n",
        "    utils.seed_everything(seed)\n",
        "\n",
        "    vocab_size = model.get_param('vocab_size')\n",
        "    image_tokens_per_dim = model.get_param('image_tokens_per_dim')\n",
        "    l_text_seq_length = model.get_param('l_text_seq_length')\n",
        "    r_text_seq_length = model.get_param('r_text_seq_length')\n",
        "    image_seq_length = model.get_param('image_seq_length')\n",
        "    device = model.get_param('device')\n",
        "\n",
        "    template = template.lower().strip()\n",
        "    template_encoded = tokenizer.encode_text(template, text_seq_length=r_text_seq_length)\n",
        "    template_size = (template_encoded != 0).sum() - 1  # eos\n",
        "    template_encoded = template_encoded[:template_size]\n",
        "\n",
        "    generated_tokens = []\n",
        "    for chunk in more_itertools.chunked(range(captions_num), bs):\n",
        "        chunk_bs = len(chunk)\n",
        "        with torch.no_grad():\n",
        "            masks = torch.ones(chunk_bs, r_text_seq_length, dtype=torch.int32)\n",
        "            attention_mask = get_attention_mask(masks, chunk_bs, l_text_seq_length, image_tokens_per_dim,\n",
        "                                                r_text_seq_length, device)\n",
        "\n",
        "            images = img.unsqueeze(0).repeat((chunk_bs, 1, 1, 1)).to(device)\n",
        "            image_input_ids = vae.get_codebook_indices(images)\n",
        "\n",
        "            out = torch.cat((\n",
        "                torch.zeros((chunk_bs, l_text_seq_length), dtype=torch.int64).to(device),\n",
        "                image_input_ids,\n",
        "                template_encoded.repeat(chunk_bs, 1).to(device),\n",
        "            ), dim=1)\n",
        "\n",
        "            has_cache = False\n",
        "            for _ in range(\n",
        "                    l_text_seq_length + image_seq_length + template_size,\n",
        "                    l_text_seq_length + image_seq_length + r_text_seq_length\n",
        "            ):\n",
        "                logits, has_cache = model(out, attention_mask,\n",
        "                                          has_cache=has_cache, use_cache=use_cache, return_loss=False)\n",
        "\n",
        "                logits = logits[:, -1, :vocab_size]\n",
        "                logits /= temperature\n",
        "                filtered_logits = transformers.top_k_top_p_filtering(logits, top_k=top_k, top_p=top_p)\n",
        "                probs = torch.nn.functional.softmax(filtered_logits, dim=-1)\n",
        "                sample = torch.multinomial(probs, 1)\n",
        "                indexes = torch.where(sample >= vocab_size - l_text_seq_length)\n",
        "                sample[indexes] = 3\n",
        "                out = torch.cat((out, sample), dim=-1)\n",
        "\n",
        "            generated_tokens.append(out[:, -r_text_seq_length:])\n",
        "\n",
        "    generated_tokens = torch.cat(generated_tokens)\n",
        "\n",
        "    texts = set()\n",
        "    for tokens in generated_tokens:\n",
        "        if limit_eos:\n",
        "            end = torch.where(tokens == 3)[0].shape[0] or tokens.shape[0]\n",
        "            tokens = tokens[:end+1]\n",
        "        text = tokenizer.decode_text(tokens).strip()\n",
        "        if text:\n",
        "            texts.add(text)\n",
        "\n",
        "    return list(texts)"
      ],
      "metadata": {
        "id": "OplDrSwGfJ0t"
      },
      "execution_count": 66,
      "outputs": []
    },
    {
      "cell_type": "code",
      "source": [
        "from nltk.translate.bleu_score import corpus_bleu\n",
        "from nltk.translate.meteor_score import single_meteor_score\n",
        "from nltk import word_tokenize\n",
        "import nltk\n",
        "nltk.download('punkt')\n",
        "nltk.download('wordnet')\n",
        "nltk.download('omw-1.4')\n",
        "\n",
        "def eval_prediction(hypotheses, references):\n",
        "\n",
        "    references = [[word_tokenize(x)] for x in references]\n",
        "    hypotheses = [word_tokenize(x) for x in hypotheses]\n",
        "\n",
        "    # bleu-score\n",
        "    b1 = corpus_bleu(references, hypotheses, weights=(1, 0, 0, 0))\n",
        "    b2 = corpus_bleu(references, hypotheses, weights=(0.5, 0.5))\n",
        "    b3 = corpus_bleu(references, hypotheses, weights=(1 / 3, 1 / 3, 1 / 3))\n",
        "    b4 = corpus_bleu(references, hypotheses, weights=(0.25, 0.25, 0.25, 0.25))\n",
        "\n",
        "    m = 0\n",
        "    for h, r in zip(hypotheses, references):\n",
        "        m += single_meteor_score(r[0], h)\n",
        "    m /= len(hypotheses)\n",
        "\n",
        "    return b1, b2, b3, b4, m\n",
        "\n",
        "def model_eval(model, dataset):\n",
        "    model.eval()\n",
        "    captions_num = 1\n",
        "    template = ''\n",
        "    orig_texts = []\n",
        "    generated_texts = []\n",
        "    for i in tqdm(range(len(dataset))):\n",
        "        orig_text, img = dataset.get_text_image(i)\n",
        "        generated_text = generate_captions(img, tokenizer, model, vae, template=template, \n",
        "                          top_k=1, captions_num=captions_num, bs=args.bs, top_p=0.6, seed=43, \n",
        "                          temperature=0.8, limit_eos=False)\n",
        "        orig_texts.append(orig_text)\n",
        "        generated_texts.append(generated_text[0])\n",
        "    return eval_prediction(generated_texts, orig_texts)"
      ],
      "metadata": {
        "id": "oNSP0c4LeLBS",
        "colab": {
          "base_uri": "https://localhost:8080/"
        },
        "outputId": "fb11e0ba-b428-4f99-87dd-8114dc0c1c7d"
      },
      "execution_count": 64,
      "outputs": [
        {
          "output_type": "stream",
          "name": "stderr",
          "text": [
            "[nltk_data] Downloading package punkt to /root/nltk_data...\n",
            "[nltk_data]   Package punkt is already up-to-date!\n",
            "[nltk_data] Downloading package wordnet to /root/nltk_data...\n",
            "[nltk_data]   Package wordnet is already up-to-date!\n",
            "[nltk_data] Downloading package omw-1.4 to /root/nltk_data...\n",
            "[nltk_data]   Package omw-1.4 is already up-to-date!\n"
          ]
        }
      ]
    },
    {
      "cell_type": "code",
      "source": [
        "model.load_state_dict(torch.load('models/rudolph/rudolph__dalle_best.pt'))\n",
        "test_dataset = Data(image_path='data/memes/images/', data_path='data/memes/test.csv', shuffle=False, tokenizer=tokenizer)\n",
        "b1, b2, b3, b4, m = model_eval(model, test_dataset)\n",
        "\n",
        "print(f'Eval on test set')\n",
        "print(f\"BLEU-1: {b1}\")\n",
        "print(f\"BLEU-2: {b2}\")\n",
        "print(f\"BLEU-3: {b3}\")\n",
        "print(f\"BLEU-4: {b4}\")\n",
        "print(f\"METEOR: {m}\")"
      ],
      "metadata": {
        "colab": {
          "base_uri": "https://localhost:8080/"
        },
        "id": "uXHo58C3o_is",
        "outputId": "5153be5f-224d-41d0-f405-22c39a29a593"
      },
      "execution_count": 67,
      "outputs": [
        {
          "output_type": "stream",
          "name": "stderr",
          "text": [
            "100%|██████████| 546/546 [14:51<00:00,  1.63s/it]\n"
          ]
        },
        {
          "output_type": "stream",
          "name": "stdout",
          "text": [
            "Eval on test set\n",
            "BLEU-1: 0.1998812563358581\n",
            "BLEU-2: 0.11876402584503763\n",
            "BLEU-3: 0.07088754486471843\n",
            "BLEU-4: 0.04621918743309756\n",
            "METEOR: 0.17748220489113842\n"
          ]
        }
      ]
    },
    {
      "cell_type": "markdown",
      "source": [
        "Оценка работы модели без дообучения"
      ],
      "metadata": {
        "id": "dZujQ-z6okt8"
      }
    },
    {
      "cell_type": "code",
      "source": [
        "model.load_state_dict(torch.load('models/rudolph/rudolph__dalle_0.pt'))\n",
        "b1, b2, b3, b4, m = model_eval(model, test_dataset)\n",
        "\n",
        "print(f'Eval on test set (model without finetuning)')\n",
        "print(f\"BLEU-1: {b1}\")\n",
        "print(f\"BLEU-2: {b2}\")\n",
        "print(f\"BLEU-3: {b3}\")\n",
        "print(f\"BLEU-4: {b4}\")\n",
        "print(f\"METEOR: {m}\")"
      ],
      "metadata": {
        "colab": {
          "base_uri": "https://localhost:8080/"
        },
        "id": "tXYAJK7wofmd",
        "outputId": "daf97514-95d5-48d4-da45-72e3a111fe60"
      },
      "execution_count": 68,
      "outputs": [
        {
          "output_type": "stream",
          "name": "stderr",
          "text": [
            "100%|██████████| 546/546 [14:32<00:00,  1.60s/it]\n"
          ]
        },
        {
          "output_type": "stream",
          "name": "stdout",
          "text": [
            "Eval on test set (model without finetuning)\n",
            "BLEU-1: 0.00020490366845716385\n",
            "BLEU-2: 2.7150555117894417e-05\n",
            "BLEU-3: 7.289056516164361e-06\n",
            "BLEU-4: 3.424245749994142e-82\n",
            "METEOR: 0.011150492705379659\n"
          ]
        }
      ]
    },
    {
      "cell_type": "markdown",
      "metadata": {
        "id": "10ECvD56FlAo"
      },
      "source": [
        "# Пример работы модели\n",
        "\n",
        "## Модель без дообучения"
      ]
    },
    {
      "cell_type": "code",
      "source": [
        "from rudolph.pipelines import generate_captions\n",
        "import requests\n",
        "from PIL import Image\n",
        "import torch"
      ],
      "metadata": {
        "id": "5Mih8qZvvuDI"
      },
      "execution_count": null,
      "outputs": []
    },
    {
      "cell_type": "code",
      "source": [
        "model.load_state_dict(torch.load('models/rudolph/rudolph__dalle_0.pt'))\n",
        "model.eval()\n",
        "\n",
        "template = 'на фото'\n",
        "img = Image.open(\"data/memes/images/1.jpg\").resize((128, 128))\n",
        "captions_num = 4\n",
        "display(img)\n",
        "\n",
        "texts = generate_captions(img, tokenizer, model, vae, template=template, \n",
        "                          top_k=4, captions_num=captions_num, bs=16, top_p=0.6, seed=43, \n",
        "                          temperature=0.8, limit_eos=False)\n",
        "ppl_text, ppl_image = self_reranking_by_image(texts, img, tokenizer, model, vae, bs=16, seed=42)\n",
        "for idx in ppl_image.argsort()[:8]:\n",
        "    print(texts[idx])"
      ],
      "metadata": {
        "colab": {
          "base_uri": "https://localhost:8080/",
          "height": 246,
          "referenced_widgets": [
            "a75ed33be4514fe19a7f4dceab2c264b",
            "b606e226a01f4ea8820c633cbbad0cc9",
            "b8db10ab29dc497e8b94d162d452ed98",
            "00b18fb2f5854f6ca56fb461e858ae86",
            "52e474979bdb442d8f3af51767b61821",
            "c0bbe3caf66849a5a40bd1abf946599c",
            "35b5438b3bca4bd4b3ef89fa60f6d942",
            "7acfd93ef5494c3dbf4cb2742f50d358",
            "c558b1351c69430d8ae64351ec8e25d0",
            "d2d9268d40c54f9396dc711581997de6",
            "9a04b07875a84e03b2a278637bfa0efa"
          ]
        },
        "id": "Xh28Ppahvkb8",
        "outputId": "495c486e-c7b0-4844-8a44-a6a3f8586886"
      },
      "execution_count": null,
      "outputs": [
        {
          "output_type": "display_data",
          "data": {
            "text/plain": [
              "<PIL.Image.Image image mode=RGB size=128x128 at 0x7FBE9D20D290>"
            ],
            "image/png": "[encoded data removed]"
          },
          "metadata": {}
        },
        {
          "output_type": "display_data",
          "data": {
            "text/plain": [
              "  0%|          | 0/61 [00:00<?, ?it/s]"
            ],
            "application/vnd.jupyter.widget-view+json": {
              "version_major": 2,
              "version_minor": 0,
              "model_id": "a75ed33be4514fe19a7f4dceab2c264b"
            }
          },
          "metadata": {}
        },
        {
          "output_type": "stream",
          "name": "stdout",
          "text": [
            "на фото - карикатура: деньги, которые невозможно забыть\n",
            "на фото - карикатура: деньги, которые вам не дают\n",
            "на фото - карикатура: как я жил с вами в россии\n",
            "на фото - депутаты госдумы от кпрф\n"
          ]
        }
      ]
    },
    {
      "cell_type": "code",
      "source": [
        "model.eval()\n",
        "\n",
        "template = 'на фото'\n",
        "\n",
        "img = Image.open(\"data/memes/images/100.jpg\").resize((128, 128))\n",
        "captions_num = 4\n",
        "display(img)\n",
        "\n",
        "texts = generate_captions(img, tokenizer, model, vae, template=template, \n",
        "                          top_k=4, captions_num=captions_num, bs=16, top_p=0.6, seed=43, \n",
        "                          temperature=0.8, limit_eos=False)\n",
        "ppl_text, ppl_image = self_reranking_by_image(texts, img, tokenizer, model, vae, bs=16, seed=42)\n",
        "for idx in ppl_image.argsort()[:8]:\n",
        "    print(texts[idx])"
      ],
      "metadata": {
        "colab": {
          "base_uri": "https://localhost:8080/",
          "height": 246,
          "referenced_widgets": [
            "3e2bd4d039f048acbcf96de5dd3e9a0c",
            "1ca2288a6dba48428e787e5a49a09395",
            "4eebce0238a34aa29b61e7b345768706",
            "c1429d33c5894bc39bdd7d93f2f4b154",
            "0aa52fee8d114d0d96bd10d51431bd40",
            "dbdec0b58da44e38971ed0c64346a341",
            "efbb49c8205c436cb2b3e46b8397b0f5",
            "72c248de06d242bd9784f9e59a1a89f0",
            "b1962cb6b4dc4fa3857e65a4d92ac351",
            "2e7b13e4448244f6ab76d51f0ac19a7a",
            "bcc962e3439a44c68aebce30aabaf1e5"
          ]
        },
        "id": "doe8zmD4v7pw",
        "outputId": "6d671aba-6b41-44f3-9295-0cd90bbb6d2e"
      },
      "execution_count": null,
      "outputs": [
        {
          "output_type": "display_data",
          "data": {
            "text/plain": [
              "<PIL.Image.Image image mode=RGB size=128x128 at 0x7FBE9D20D150>"
            ],
            "image/png": "[encoded data removed]"
          },
          "metadata": {}
        },
        {
          "output_type": "display_data",
          "data": {
            "text/plain": [
              "  0%|          | 0/61 [00:00<?, ?it/s]"
            ],
            "application/vnd.jupyter.widget-view+json": {
              "version_major": 2,
              "version_minor": 0,
              "model_id": "3e2bd4d039f048acbcf96de5dd3e9a0c"
            }
          },
          "metadata": {}
        },
        {
          "output_type": "stream",
          "name": "stdout",
          "text": [
            "на фото - как правильно выбрать суши\n",
            "на фото - как правильно сушить рыбу в домашних условиях\n",
            "на фото показаны способы приготовления роллов\n",
            "на фото показаны три варианта приготовления суши\n"
          ]
        }
      ]
    },
    {
      "cell_type": "code",
      "source": [
        "model.eval()\n",
        "\n",
        "template = 'на фото'\n",
        "\n",
        "img = Image.open(\"data/memes/images/1000.jpg\").resize((128, 128))\n",
        "captions_num = 4\n",
        "display(img)\n",
        "\n",
        "texts = generate_captions(img, tokenizer, model, vae, template=template, \n",
        "                          top_k=4, captions_num=captions_num, bs=16, top_p=0.6, seed=43, \n",
        "                          temperature=0.8, limit_eos=False)\n",
        "ppl_text, ppl_image = self_reranking_by_image(texts, img, tokenizer, model, vae, bs=16, seed=42)\n",
        "for idx in ppl_image.argsort()[:8]:\n",
        "    print(texts[idx])"
      ],
      "metadata": {
        "colab": {
          "base_uri": "https://localhost:8080/",
          "height": 246,
          "referenced_widgets": [
            "3324db551d80429da731b4da15840563",
            "13cee64ca81a43d9b646612a601f39d4",
            "55f7f10ad12540c6847c18f57a16132b",
            "db0ba33f76314fd29673488cd1ab2243",
            "9753ccf46e164114a0b141e091331cf4",
            "793132a5a6da41fa84d0fbcc03884963",
            "b3a824b2118b466e8a72b4cfd784c2ec",
            "b4f019c719c4485ab2d3a24bc3c67e3d",
            "33a1546b54494ec0a5605418bbf55a8b",
            "c228fae2e2e84efd8d511e7c02926c63",
            "5718643e08ca4f028ae40f2e9f1a4ad8"
          ]
        },
        "id": "9wkMkXLywSzd",
        "outputId": "e80f9fb3-49b0-4430-c203-629d54a1e206"
      },
      "execution_count": null,
      "outputs": [
        {
          "output_type": "display_data",
          "data": {
            "text/plain": [
              "<PIL.Image.Image image mode=RGB size=128x128 at 0x7FBE9D5D64D0>"
            ],
            "image/png": "[encoded data removed]"
          },
          "metadata": {}
        },
        {
          "output_type": "display_data",
          "data": {
            "text/plain": [
              "  0%|          | 0/61 [00:00<?, ?it/s]"
            ],
            "application/vnd.jupyter.widget-view+json": {
              "version_major": 2,
              "version_minor": 0,
              "model_id": "3324db551d80429da731b4da15840563"
            }
          },
          "metadata": {}
        },
        {
          "output_type": "stream",
          "name": "stdout",
          "text": [
            "на фото - набор для настольного тенниса\n",
            "на фото - детский защитный шлем для катания на роликах, скейтборде, самокате\n",
            "на фото - каска защитная строительная\n",
            "на фото - каска защитная строительная с храповиком и вентиляцией\n"
          ]
        }
      ]
    },
    {
      "cell_type": "markdown",
      "source": [
        "## С дообучением"
      ],
      "metadata": {
        "id": "eCyTAfDMv_cc"
      }
    },
    {
      "cell_type": "code",
      "execution_count": null,
      "metadata": {
        "colab": {
          "base_uri": "https://localhost:8080/",
          "height": 266,
          "referenced_widgets": [
            "6d70e2f007a84ba9b56db7768322a3af",
            "8745bfd7e21f41989e66166f50dfaa9e",
            "fa6bc0bf1d324de7a7c2b2cdec4b51a6",
            "e2999328f9404d68b1d0c416e318fca9",
            "ad46692fb3c24c369caa65faed349f5d",
            "22354f8ee5e646b39c3124dfef6e1359",
            "749438e03e8440e9acef6dbdd2aa3520",
            "1e1f156f9ec84fc094fd66caae2cefcb",
            "a6b10302410643a69f258734a6b32fcc",
            "0dd10f7f2993477fafbf0642dd101d81",
            "2592396b061344ba990ecc7212bfb4a7"
          ]
        },
        "id": "N4TKL0i76w8f",
        "outputId": "d603ff66-3093-45aa-e96c-08fb1cb43860"
      },
      "outputs": [
        {
          "output_type": "display_data",
          "data": {
            "text/plain": [
              "<PIL.Image.Image image mode=RGB size=128x128 at 0x7FBE9C83CF90>"
            ],
            "image/png": "[encoded data removed]"
          },
          "metadata": {}
        },
        {
          "output_type": "display_data",
          "data": {
            "text/plain": [
              "  0%|          | 0/61 [00:00<?, ?it/s]"
            ],
            "application/vnd.jupyter.widget-view+json": {
              "version_major": 2,
              "version_minor": 0,
              "model_id": "6d70e2f007a84ba9b56db7768322a3af"
            }
          },
          "metadata": {}
        },
        {
          "output_type": "stream",
          "name": "stdout",
          "text": [
            "на фото изображены люди в деловых костюмах и галстуках с галстуками и с сигаретой. на первом кадре изображены двое мужчин в очках с галстуками и с книгами в руках. они смотрят на читателя мема. подпись сверху: \"давай, давай, давай\". на втором кадре\n",
            "на фото двое мужчин в камуфляжной форме сидят на кровати, держа в руках книгу и смотря на читателя мема. подпись сверху: \"дайте мне денег\".\n",
            "на фото изображён человек в очках, сидя на кровати с читателем газеты и смотрящий на читателя мема. подпись сверху: \"а что, это за человек?\".\n",
            "на фото изображены два человека в камуфляжной форме, которые читают книгу. один из них стоит на коленях, а второй держит книгу. подпись рядом: \"да я не могу\".\n"
          ]
        }
      ],
      "source": [
        "model.load_state_dict(torch.load('models/rudolph/rudolph__dalle_best.pt'))\n",
        "model.eval()\n",
        "\n",
        "template = 'на фото'\n",
        "\n",
        "img = Image.open(\"data/memes/images/1.jpg\").resize((128, 128))\n",
        "captions_num = 4\n",
        "display(img)\n",
        "\n",
        "texts = generate_captions(img, tokenizer, model, vae, template=template, \n",
        "                          top_k=4, captions_num=captions_num, bs=16, top_p=0.6, seed=43, \n",
        "                          temperature=0.8, limit_eos=False)\n",
        "ppl_text, ppl_image = self_reranking_by_image(texts, img, tokenizer, model, vae, bs=16, seed=42)\n",
        "for idx in ppl_image.argsort()[:8]:\n",
        "    print(texts[idx])"
      ]
    },
    {
      "cell_type": "code",
      "execution_count": null,
      "metadata": {
        "id": "mEe-HXA7apYq",
        "colab": {
          "base_uri": "https://localhost:8080/",
          "height": 246,
          "referenced_widgets": [
            "f0d3708852f2475b94e1054211563a29",
            "3d9e9c1331e34c6e9fd210d4ea5f3dca",
            "e7105ddf6d6844be9bb08f2440d5f70f",
            "c98e9cfcd08346ecaca4ee1014eacfde",
            "6e35428e50764f1d84ea1ef1b25146a5",
            "810ebd9fd66046fa9b43fbc64dcecec6",
            "ea7211f0c3cd4726b88f4fcc46659cd9",
            "37b742d824bb43819f644775a48f7d34",
            "5f7859a3d03441d2b320fa683d705834",
            "7f688528fa6b4fcaaa015d357195614a",
            "8fc1ec7d783b45899829a1160e2bf738"
          ]
        },
        "outputId": "867dffec-f110-4b0a-ca17-960c4538f4dd"
      },
      "outputs": [
        {
          "output_type": "display_data",
          "data": {
            "text/plain": [
              "<PIL.Image.Image image mode=RGB size=128x128 at 0x7FBF681EE190>"
            ],
            "image/png": "[encoded data removed]"
          },
          "metadata": {}
        },
        {
          "output_type": "display_data",
          "data": {
            "text/plain": [
              "  0%|          | 0/61 [00:00<?, ?it/s]"
            ],
            "application/vnd.jupyter.widget-view+json": {
              "version_major": 2,
              "version_minor": 0,
              "model_id": "f0d3708852f2475b94e1054211563a29"
            }
          },
          "metadata": {}
        },
        {
          "output_type": "stream",
          "name": "stdout",
          "text": [
            "на фото запечённый лосось в духовке. подпись: \"ты не можешь поесть так как хочешь\".\n",
            "на фото изображен бутерброд с сыром и рукой. на его руке наложена черная этикетка. на этикетке написано: \"me memes (кусок сыра)\".\n",
            "на фото рука держит суши ролл и держит палочку для еды. подпись на японском: \"хочу суши ролл\".\n",
            "на фото запечённый лосось в духовке. подпись: \"ты не можешь съесть лосося, но я не смогу\".\n"
          ]
        }
      ],
      "source": [
        "model.eval()\n",
        "\n",
        "template = 'на фото'\n",
        "\n",
        "img = Image.open(\"data/memes/images/100.jpg\").resize((128, 128))\n",
        "captions_num = 4\n",
        "display(img)\n",
        "\n",
        "texts = generate_captions(img, tokenizer, model, vae, template=template, \n",
        "                          top_k=4, captions_num=captions_num, bs=16, top_p=0.6, seed=43, \n",
        "                          temperature=0.8, limit_eos=False)\n",
        "ppl_text, ppl_image = self_reranking_by_image(texts, img, tokenizer, model, vae, bs=16, seed=42)\n",
        "for idx in ppl_image.argsort()[:8]:\n",
        "    print(texts[idx])"
      ]
    },
    {
      "cell_type": "code",
      "source": [
        "model.eval()\n",
        "\n",
        "template = 'на фото'\n",
        "\n",
        "img = Image.open(\"data/memes/images/1000.jpg\").resize((128, 128))\n",
        "captions_num = 4\n",
        "display(img)\n",
        "\n",
        "texts = generate_captions(img, tokenizer, model, vae, template=template, \n",
        "                          top_k=4, captions_num=captions_num, bs=16, top_p=0.6, seed=43, \n",
        "                          temperature=0.8, limit_eos=False)\n",
        "ppl_text, ppl_image = self_reranking_by_image(texts, img, tokenizer, model, vae, bs=16, seed=42)\n",
        "for idx in ppl_image.argsort()[:8]:\n",
        "    print(texts[idx])"
      ],
      "metadata": {
        "colab": {
          "base_uri": "https://localhost:8080/",
          "height": 246,
          "referenced_widgets": [
            "5b31db43cf8a48ea8c28f7a18aecc28f",
            "20166d1ee72d43f99320b886e10792a0",
            "c2ba0696d3d1466e96aa22da4c098501",
            "c84936b84c7e4fc787848d58646da8a1",
            "7fc89d699047439e83b55eee0ca00a19",
            "f621778f41ce448eadfd4beaa04485a9",
            "e0d72d1b8b7f40609b7afea009d3d224",
            "6b0247e674f346cfba7b2be5675782fa",
            "ac1f75fb46174d2e993464fced2d1afc",
            "ce85a532f4a84e68bd1cb79fcaec1420",
            "76ca1377dfdb422d8a8bb54b8a5f44b1"
          ]
        },
        "id": "16LT0cIiwaSr",
        "outputId": "e9b00044-46ca-410f-ff20-21c4e5323d52"
      },
      "execution_count": null,
      "outputs": [
        {
          "output_type": "display_data",
          "data": {
            "text/plain": [
              "<PIL.Image.Image image mode=RGB size=128x128 at 0x7FBEA18D9C90>"
            ],
            "image/png": "[encoded data removed]"
          },
          "metadata": {}
        },
        {
          "output_type": "display_data",
          "data": {
            "text/plain": [
              "  0%|          | 0/61 [00:00<?, ?it/s]"
            ],
            "application/vnd.jupyter.widget-view+json": {
              "version_major": 2,
              "version_minor": 0,
              "model_id": "5b31db43cf8a48ea8c28f7a18aecc28f"
            }
          },
          "metadata": {}
        },
        {
          "output_type": "stream",
          "name": "stdout",
          "text": [
            "на фото смайлик с улыбкой на лице, который улыбается и держит в руках ручку и блокнот. подпись сверху и снизу: \"да это я\".\n",
            "на фото изображён смайлик с улыбкой на лице, смотрящий в сторону читателя мема. подпись: \"да я не знаю\".\n",
            "на фото смайлик с сигаретой в носу и слёзами. подпись: \"да я слышал о том, что в детстве ты играл в баскетбол\".\n",
            "на фото изображен смайлик с открытым ртом в синей шляпе. он улыбается и показывает пальцем на читателя мема. подпись: \"ахахахахахахахахахахахахахахахахахахахахахахахахахахахахахахахахахахаха\n"
          ]
        }
      ]
    },
    {
      "cell_type": "markdown",
      "source": [
        "Видно, что модель улавливает основные паттерны - ролл/сушина с лососем на картинке, люди в пиджаках. Иногда есть прямо хорошие описания, иногда похуже. Но совсем беда с подписями - их модель генерирует совсем рандомно, несмотря на то, что щаблон описаний она запомнила"
      ],
      "metadata": {
        "id": "ej2fjOGrgAt-"
      }
    }
  ],
  "metadata": {
    "accelerator": "GPU",
    "colab": {
      "background_execution": "on",
      "collapsed_sections": [],
      "machine_shape": "hm",
      "name": "finetune_eval_rudolph",
      "provenance": []
    },
    "gpuClass": "standard",
    "kernelspec": {
      "display_name": "Python 3 (ipykernel)",
      "language": "python",
      "name": "python3"
    },
    "language_info": {
      "codemirror_mode": {
        "name": "ipython",
        "version": 3
      },
      "file_extension": ".py",
      "mimetype": "text/x-python",
      "name": "python",
      "nbconvert_exporter": "python",
      "pygments_lexer": "ipython3",
      "version": "3.7.10"
    },
    "widgets": {
      "application/vnd.jupyter.widget-state+json": {
        "e68d435b09d2493a8ed5536b1dd9034e": {
          "model_module": "@jupyter-widgets/controls",
          "model_name": "HBoxModel",
          "model_module_version": "1.5.0",
          "state": {
            "_dom_classes": [],
            "_model_module": "@jupyter-widgets/controls",
            "_model_module_version": "1.5.0",
            "_model_name": "HBoxModel",
            "_view_count": null,
            "_view_module": "@jupyter-widgets/controls",
            "_view_module_version": "1.5.0",
            "_view_name": "HBoxView",
            "box_style": "",
            "children": [
              "IPY_MODEL_73abf68380d543d08155c48f3e3e78b5",
              "IPY_MODEL_1330b13063484f08b22999bada627f9e",
              "IPY_MODEL_83ed5db7db7642f19a59e84bcbeb7f7a"
            ],
            "layout": "IPY_MODEL_06892a33a12641c0b537e401afbf72da"
          }
        },
        "73abf68380d543d08155c48f3e3e78b5": {
          "model_module": "@jupyter-widgets/controls",
          "model_name": "HTMLModel",
          "model_module_version": "1.5.0",
          "state": {
            "_dom_classes": [],
            "_model_module": "@jupyter-widgets/controls",
            "_model_module_version": "1.5.0",
            "_model_name": "HTMLModel",
            "_view_count": null,
            "_view_module": "@jupyter-widgets/controls",
            "_view_module_version": "1.5.0",
            "_view_name": "HTMLView",
            "description": "",
            "description_tooltip": null,
            "layout": "IPY_MODEL_b544e2dc12604c24b07738bd448fe309",
            "placeholder": "​",
            "style": "IPY_MODEL_24c58c26298e46698f6f2c059dd6b657",
            "value": "Downloading: 100%"
          }
        },
        "1330b13063484f08b22999bada627f9e": {
          "model_module": "@jupyter-widgets/controls",
          "model_name": "FloatProgressModel",
          "model_module_version": "1.5.0",
          "state": {
            "_dom_classes": [],
            "_model_module": "@jupyter-widgets/controls",
            "_model_module_version": "1.5.0",
            "_model_name": "FloatProgressModel",
            "_view_count": null,
            "_view_module": "@jupyter-widgets/controls",
            "_view_module_version": "1.5.0",
            "_view_name": "ProgressView",
            "bar_style": "success",
            "description": "",
            "description_tooltip": null,
            "layout": "IPY_MODEL_944485b7fdac45f9b44c5c76b8c19fc2",
            "max": 707460385,
            "min": 0,
            "orientation": "horizontal",
            "style": "IPY_MODEL_adbd5f3e905643fb9cd41f270dc3bb31",
            "value": 707460385
          }
        },
        "83ed5db7db7642f19a59e84bcbeb7f7a": {
          "model_module": "@jupyter-widgets/controls",
          "model_name": "HTMLModel",
          "model_module_version": "1.5.0",
          "state": {
            "_dom_classes": [],
            "_model_module": "@jupyter-widgets/controls",
            "_model_module_version": "1.5.0",
            "_model_name": "HTMLModel",
            "_view_count": null,
            "_view_module": "@jupyter-widgets/controls",
            "_view_module_version": "1.5.0",
            "_view_name": "HTMLView",
            "description": "",
            "description_tooltip": null,
            "layout": "IPY_MODEL_6357742178f44a368230d6949405d87e",
            "placeholder": "​",
            "style": "IPY_MODEL_27d4f7b4b5ec4d44b35c30985d8ce756",
            "value": " 707M/707M [00:19&lt;00:00, 36.5MB/s]"
          }
        },
        "06892a33a12641c0b537e401afbf72da": {
          "model_module": "@jupyter-widgets/base",
          "model_name": "LayoutModel",
          "model_module_version": "1.2.0",
          "state": {
            "_model_module": "@jupyter-widgets/base",
            "_model_module_version": "1.2.0",
            "_model_name": "LayoutModel",
            "_view_count": null,
            "_view_module": "@jupyter-widgets/base",
            "_view_module_version": "1.2.0",
            "_view_name": "LayoutView",
            "align_content": null,
            "align_items": null,
            "align_self": null,
            "border": null,
            "bottom": null,
            "display": null,
            "flex": null,
            "flex_flow": null,
            "grid_area": null,
            "grid_auto_columns": null,
            "grid_auto_flow": null,
            "grid_auto_rows": null,
            "grid_column": null,
            "grid_gap": null,
            "grid_row": null,
            "grid_template_areas": null,
            "grid_template_columns": null,
            "grid_template_rows": null,
            "height": null,
            "justify_content": null,
            "justify_items": null,
            "left": null,
            "margin": null,
            "max_height": null,
            "max_width": null,
            "min_height": null,
            "min_width": null,
            "object_fit": null,
            "object_position": null,
            "order": null,
            "overflow": null,
            "overflow_x": null,
            "overflow_y": null,
            "padding": null,
            "right": null,
            "top": null,
            "visibility": null,
            "width": null
          }
        },
        "b544e2dc12604c24b07738bd448fe309": {
          "model_module": "@jupyter-widgets/base",
          "model_name": "LayoutModel",
          "model_module_version": "1.2.0",
          "state": {
            "_model_module": "@jupyter-widgets/base",
            "_model_module_version": "1.2.0",
            "_model_name": "LayoutModel",
            "_view_count": null,
            "_view_module": "@jupyter-widgets/base",
            "_view_module_version": "1.2.0",
            "_view_name": "LayoutView",
            "align_content": null,
            "align_items": null,
            "align_self": null,
            "border": null,
            "bottom": null,
            "display": null,
            "flex": null,
            "flex_flow": null,
            "grid_area": null,
            "grid_auto_columns": null,
            "grid_auto_flow": null,
            "grid_auto_rows": null,
            "grid_column": null,
            "grid_gap": null,
            "grid_row": null,
            "grid_template_areas": null,
            "grid_template_columns": null,
            "grid_template_rows": null,
            "height": null,
            "justify_content": null,
            "justify_items": null,
            "left": null,
            "margin": null,
            "max_height": null,
            "max_width": null,
            "min_height": null,
            "min_width": null,
            "object_fit": null,
            "object_position": null,
            "order": null,
            "overflow": null,
            "overflow_x": null,
            "overflow_y": null,
            "padding": null,
            "right": null,
            "top": null,
            "visibility": null,
            "width": null
          }
        },
        "24c58c26298e46698f6f2c059dd6b657": {
          "model_module": "@jupyter-widgets/controls",
          "model_name": "DescriptionStyleModel",
          "model_module_version": "1.5.0",
          "state": {
            "_model_module": "@jupyter-widgets/controls",
            "_model_module_version": "1.5.0",
            "_model_name": "DescriptionStyleModel",
            "_view_count": null,
            "_view_module": "@jupyter-widgets/base",
            "_view_module_version": "1.2.0",
            "_view_name": "StyleView",
            "description_width": ""
          }
        },
        "944485b7fdac45f9b44c5c76b8c19fc2": {
          "model_module": "@jupyter-widgets/base",
          "model_name": "LayoutModel",
          "model_module_version": "1.2.0",
          "state": {
            "_model_module": "@jupyter-widgets/base",
            "_model_module_version": "1.2.0",
            "_model_name": "LayoutModel",
            "_view_count": null,
            "_view_module": "@jupyter-widgets/base",
            "_view_module_version": "1.2.0",
            "_view_name": "LayoutView",
            "align_content": null,
            "align_items": null,
            "align_self": null,
            "border": null,
            "bottom": null,
            "display": null,
            "flex": null,
            "flex_flow": null,
            "grid_area": null,
            "grid_auto_columns": null,
            "grid_auto_flow": null,
            "grid_auto_rows": null,
            "grid_column": null,
            "grid_gap": null,
            "grid_row": null,
            "grid_template_areas": null,
            "grid_template_columns": null,
            "grid_template_rows": null,
            "height": null,
            "justify_content": null,
            "justify_items": null,
            "left": null,
            "margin": null,
            "max_height": null,
            "max_width": null,
            "min_height": null,
            "min_width": null,
            "object_fit": null,
            "object_position": null,
            "order": null,
            "overflow": null,
            "overflow_x": null,
            "overflow_y": null,
            "padding": null,
            "right": null,
            "top": null,
            "visibility": null,
            "width": null
          }
        },
        "adbd5f3e905643fb9cd41f270dc3bb31": {
          "model_module": "@jupyter-widgets/controls",
          "model_name": "ProgressStyleModel",
          "model_module_version": "1.5.0",
          "state": {
            "_model_module": "@jupyter-widgets/controls",
            "_model_module_version": "1.5.0",
            "_model_name": "ProgressStyleModel",
            "_view_count": null,
            "_view_module": "@jupyter-widgets/base",
            "_view_module_version": "1.2.0",
            "_view_name": "StyleView",
            "bar_color": null,
            "description_width": ""
          }
        },
        "6357742178f44a368230d6949405d87e": {
          "model_module": "@jupyter-widgets/base",
          "model_name": "LayoutModel",
          "model_module_version": "1.2.0",
          "state": {
            "_model_module": "@jupyter-widgets/base",
            "_model_module_version": "1.2.0",
            "_model_name": "LayoutModel",
            "_view_count": null,
            "_view_module": "@jupyter-widgets/base",
            "_view_module_version": "1.2.0",
            "_view_name": "LayoutView",
            "align_content": null,
            "align_items": null,
            "align_self": null,
            "border": null,
            "bottom": null,
            "display": null,
            "flex": null,
            "flex_flow": null,
            "grid_area": null,
            "grid_auto_columns": null,
            "grid_auto_flow": null,
            "grid_auto_rows": null,
            "grid_column": null,
            "grid_gap": null,
            "grid_row": null,
            "grid_template_areas": null,
            "grid_template_columns": null,
            "grid_template_rows": null,
            "height": null,
            "justify_content": null,
            "justify_items": null,
            "left": null,
            "margin": null,
            "max_height": null,
            "max_width": null,
            "min_height": null,
            "min_width": null,
            "object_fit": null,
            "object_position": null,
            "order": null,
            "overflow": null,
            "overflow_x": null,
            "overflow_y": null,
            "padding": null,
            "right": null,
            "top": null,
            "visibility": null,
            "width": null
          }
        },
        "27d4f7b4b5ec4d44b35c30985d8ce756": {
          "model_module": "@jupyter-widgets/controls",
          "model_name": "DescriptionStyleModel",
          "model_module_version": "1.5.0",
          "state": {
            "_model_module": "@jupyter-widgets/controls",
            "_model_module_version": "1.5.0",
            "_model_name": "DescriptionStyleModel",
            "_view_count": null,
            "_view_module": "@jupyter-widgets/base",
            "_view_module_version": "1.2.0",
            "_view_name": "StyleView",
            "description_width": ""
          }
        },
        "b1a3328b530d403b9bd2093e072ec5ae": {
          "model_module": "@jupyter-widgets/controls",
          "model_name": "HBoxModel",
          "model_module_version": "1.5.0",
          "state": {
            "_dom_classes": [],
            "_model_module": "@jupyter-widgets/controls",
            "_model_module_version": "1.5.0",
            "_model_name": "HBoxModel",
            "_view_count": null,
            "_view_module": "@jupyter-widgets/controls",
            "_view_module_version": "1.5.0",
            "_view_name": "HBoxView",
            "box_style": "",
            "children": [
              "IPY_MODEL_a4cb82d6cc714a8cacc397e8f8c79eb7",
              "IPY_MODEL_ad812fa49eed4ec7871e4d901399514f",
              "IPY_MODEL_5f2af5ff6d8449209fcfffad18baf5c3"
            ],
            "layout": "IPY_MODEL_0a3928baa54944a5baf5992f5aeacc48"
          }
        },
        "a4cb82d6cc714a8cacc397e8f8c79eb7": {
          "model_module": "@jupyter-widgets/controls",
          "model_name": "HTMLModel",
          "model_module_version": "1.5.0",
          "state": {
            "_dom_classes": [],
            "_model_module": "@jupyter-widgets/controls",
            "_model_module_version": "1.5.0",
            "_model_name": "HTMLModel",
            "_view_count": null,
            "_view_module": "@jupyter-widgets/controls",
            "_view_module_version": "1.5.0",
            "_view_name": "HTMLView",
            "description": "",
            "description_tooltip": null,
            "layout": "IPY_MODEL_5df421b7f9614831b72026ee799f35f2",
            "placeholder": "​",
            "style": "IPY_MODEL_e3d4956661fb490ba0e5cdf188cd2ecc",
            "value": "Downloading: 100%"
          }
        },
        "ad812fa49eed4ec7871e4d901399514f": {
          "model_module": "@jupyter-widgets/controls",
          "model_name": "FloatProgressModel",
          "model_module_version": "1.5.0",
          "state": {
            "_dom_classes": [],
            "_model_module": "@jupyter-widgets/controls",
            "_model_module_version": "1.5.0",
            "_model_name": "FloatProgressModel",
            "_view_count": null,
            "_view_module": "@jupyter-widgets/controls",
            "_view_module_version": "1.5.0",
            "_view_name": "ProgressView",
            "bar_style": "success",
            "description": "",
            "description_tooltip": null,
            "layout": "IPY_MODEL_f422914f62784653aa7ae7c089ee3d12",
            "max": 224498,
            "min": 0,
            "orientation": "horizontal",
            "style": "IPY_MODEL_2314d46d16324a92aebee1295e4d7942",
            "value": 224498
          }
        },
        "5f2af5ff6d8449209fcfffad18baf5c3": {
          "model_module": "@jupyter-widgets/controls",
          "model_name": "HTMLModel",
          "model_module_version": "1.5.0",
          "state": {
            "_dom_classes": [],
            "_model_module": "@jupyter-widgets/controls",
            "_model_module_version": "1.5.0",
            "_model_name": "HTMLModel",
            "_view_count": null,
            "_view_module": "@jupyter-widgets/controls",
            "_view_module_version": "1.5.0",
            "_view_name": "HTMLView",
            "description": "",
            "description_tooltip": null,
            "layout": "IPY_MODEL_778c20a678d14176a86ef7362277efac",
            "placeholder": "​",
            "style": "IPY_MODEL_c59d439b07324655845d444032559958",
            "value": " 224k/224k [00:00&lt;00:00, 1.08MB/s]"
          }
        },
        "0a3928baa54944a5baf5992f5aeacc48": {
          "model_module": "@jupyter-widgets/base",
          "model_name": "LayoutModel",
          "model_module_version": "1.2.0",
          "state": {
            "_model_module": "@jupyter-widgets/base",
            "_model_module_version": "1.2.0",
            "_model_name": "LayoutModel",
            "_view_count": null,
            "_view_module": "@jupyter-widgets/base",
            "_view_module_version": "1.2.0",
            "_view_name": "LayoutView",
            "align_content": null,
            "align_items": null,
            "align_self": null,
            "border": null,
            "bottom": null,
            "display": null,
            "flex": null,
            "flex_flow": null,
            "grid_area": null,
            "grid_auto_columns": null,
            "grid_auto_flow": null,
            "grid_auto_rows": null,
            "grid_column": null,
            "grid_gap": null,
            "grid_row": null,
            "grid_template_areas": null,
            "grid_template_columns": null,
            "grid_template_rows": null,
            "height": null,
            "justify_content": null,
            "justify_items": null,
            "left": null,
            "margin": null,
            "max_height": null,
            "max_width": null,
            "min_height": null,
            "min_width": null,
            "object_fit": null,
            "object_position": null,
            "order": null,
            "overflow": null,
            "overflow_x": null,
            "overflow_y": null,
            "padding": null,
            "right": null,
            "top": null,
            "visibility": null,
            "width": null
          }
        },
        "5df421b7f9614831b72026ee799f35f2": {
          "model_module": "@jupyter-widgets/base",
          "model_name": "LayoutModel",
          "model_module_version": "1.2.0",
          "state": {
            "_model_module": "@jupyter-widgets/base",
            "_model_module_version": "1.2.0",
            "_model_name": "LayoutModel",
            "_view_count": null,
            "_view_module": "@jupyter-widgets/base",
            "_view_module_version": "1.2.0",
            "_view_name": "LayoutView",
            "align_content": null,
            "align_items": null,
            "align_self": null,
            "border": null,
            "bottom": null,
            "display": null,
            "flex": null,
            "flex_flow": null,
            "grid_area": null,
            "grid_auto_columns": null,
            "grid_auto_flow": null,
            "grid_auto_rows": null,
            "grid_column": null,
            "grid_gap": null,
            "grid_row": null,
            "grid_template_areas": null,
            "grid_template_columns": null,
            "grid_template_rows": null,
            "height": null,
            "justify_content": null,
            "justify_items": null,
            "left": null,
            "margin": null,
            "max_height": null,
            "max_width": null,
            "min_height": null,
            "min_width": null,
            "object_fit": null,
            "object_position": null,
            "order": null,
            "overflow": null,
            "overflow_x": null,
            "overflow_y": null,
            "padding": null,
            "right": null,
            "top": null,
            "visibility": null,
            "width": null
          }
        },
        "e3d4956661fb490ba0e5cdf188cd2ecc": {
          "model_module": "@jupyter-widgets/controls",
          "model_name": "DescriptionStyleModel",
          "model_module_version": "1.5.0",
          "state": {
            "_model_module": "@jupyter-widgets/controls",
            "_model_module_version": "1.5.0",
            "_model_name": "DescriptionStyleModel",
            "_view_count": null,
            "_view_module": "@jupyter-widgets/base",
            "_view_module_version": "1.2.0",
            "_view_name": "StyleView",
            "description_width": ""
          }
        },
        "f422914f62784653aa7ae7c089ee3d12": {
          "model_module": "@jupyter-widgets/base",
          "model_name": "LayoutModel",
          "model_module_version": "1.2.0",
          "state": {
            "_model_module": "@jupyter-widgets/base",
            "_model_module_version": "1.2.0",
            "_model_name": "LayoutModel",
            "_view_count": null,
            "_view_module": "@jupyter-widgets/base",
            "_view_module_version": "1.2.0",
            "_view_name": "LayoutView",
            "align_content": null,
            "align_items": null,
            "align_self": null,
            "border": null,
            "bottom": null,
            "display": null,
            "flex": null,
            "flex_flow": null,
            "grid_area": null,
            "grid_auto_columns": null,
            "grid_auto_flow": null,
            "grid_auto_rows": null,
            "grid_column": null,
            "grid_gap": null,
            "grid_row": null,
            "grid_template_areas": null,
            "grid_template_columns": null,
            "grid_template_rows": null,
            "height": null,
            "justify_content": null,
            "justify_items": null,
            "left": null,
            "margin": null,
            "max_height": null,
            "max_width": null,
            "min_height": null,
            "min_width": null,
            "object_fit": null,
            "object_position": null,
            "order": null,
            "overflow": null,
            "overflow_x": null,
            "overflow_y": null,
            "padding": null,
            "right": null,
            "top": null,
            "visibility": null,
            "width": null
          }
        },
        "2314d46d16324a92aebee1295e4d7942": {
          "model_module": "@jupyter-widgets/controls",
          "model_name": "ProgressStyleModel",
          "model_module_version": "1.5.0",
          "state": {
            "_model_module": "@jupyter-widgets/controls",
            "_model_module_version": "1.5.0",
            "_model_name": "ProgressStyleModel",
            "_view_count": null,
            "_view_module": "@jupyter-widgets/base",
            "_view_module_version": "1.2.0",
            "_view_name": "StyleView",
            "bar_color": null,
            "description_width": ""
          }
        },
        "778c20a678d14176a86ef7362277efac": {
          "model_module": "@jupyter-widgets/base",
          "model_name": "LayoutModel",
          "model_module_version": "1.2.0",
          "state": {
            "_model_module": "@jupyter-widgets/base",
            "_model_module_version": "1.2.0",
            "_model_name": "LayoutModel",
            "_view_count": null,
            "_view_module": "@jupyter-widgets/base",
            "_view_module_version": "1.2.0",
            "_view_name": "LayoutView",
            "align_content": null,
            "align_items": null,
            "align_self": null,
            "border": null,
            "bottom": null,
            "display": null,
            "flex": null,
            "flex_flow": null,
            "grid_area": null,
            "grid_auto_columns": null,
            "grid_auto_flow": null,
            "grid_auto_rows": null,
            "grid_column": null,
            "grid_gap": null,
            "grid_row": null,
            "grid_template_areas": null,
            "grid_template_columns": null,
            "grid_template_rows": null,
            "height": null,
            "justify_content": null,
            "justify_items": null,
            "left": null,
            "margin": null,
            "max_height": null,
            "max_width": null,
            "min_height": null,
            "min_width": null,
            "object_fit": null,
            "object_position": null,
            "order": null,
            "overflow": null,
            "overflow_x": null,
            "overflow_y": null,
            "padding": null,
            "right": null,
            "top": null,
            "visibility": null,
            "width": null
          }
        },
        "c59d439b07324655845d444032559958": {
          "model_module": "@jupyter-widgets/controls",
          "model_name": "DescriptionStyleModel",
          "model_module_version": "1.5.0",
          "state": {
            "_model_module": "@jupyter-widgets/controls",
            "_model_module_version": "1.5.0",
            "_model_name": "DescriptionStyleModel",
            "_view_count": null,
            "_view_module": "@jupyter-widgets/base",
            "_view_module_version": "1.2.0",
            "_view_name": "StyleView",
            "description_width": ""
          }
        },
        "404c78f4279946e4abb69520be7e5bf2": {
          "model_module": "@jupyter-widgets/controls",
          "model_name": "HBoxModel",
          "model_module_version": "1.5.0",
          "state": {
            "_dom_classes": [],
            "_model_module": "@jupyter-widgets/controls",
            "_model_module_version": "1.5.0",
            "_model_name": "HBoxModel",
            "_view_count": null,
            "_view_module": "@jupyter-widgets/controls",
            "_view_module_version": "1.5.0",
            "_view_name": "HBoxView",
            "box_style": "",
            "children": [
              "IPY_MODEL_d1e38397dd534fdfaae228e9557d9c41",
              "IPY_MODEL_2e93ee601da44d97988293e09b95a291",
              "IPY_MODEL_adb1f604bc934dac9141a46ad3be8efa"
            ],
            "layout": "IPY_MODEL_fa3cd37481fa42619f8a3b4ee05b1d18"
          }
        },
        "d1e38397dd534fdfaae228e9557d9c41": {
          "model_module": "@jupyter-widgets/controls",
          "model_name": "HTMLModel",
          "model_module_version": "1.5.0",
          "state": {
            "_dom_classes": [],
            "_model_module": "@jupyter-widgets/controls",
            "_model_module_version": "1.5.0",
            "_model_name": "HTMLModel",
            "_view_count": null,
            "_view_module": "@jupyter-widgets/controls",
            "_view_module_version": "1.5.0",
            "_view_name": "HTMLView",
            "description": "",
            "description_tooltip": null,
            "layout": "IPY_MODEL_8358c0a4aa174e95bcbb6c0934ed2d9e",
            "placeholder": "​",
            "style": "IPY_MODEL_8f0a61d819c74b7e91c7110218522190",
            "value": "Downloading: 100%"
          }
        },
        "2e93ee601da44d97988293e09b95a291": {
          "model_module": "@jupyter-widgets/controls",
          "model_name": "FloatProgressModel",
          "model_module_version": "1.5.0",
          "state": {
            "_dom_classes": [],
            "_model_module": "@jupyter-widgets/controls",
            "_model_module_version": "1.5.0",
            "_model_name": "FloatProgressModel",
            "_view_count": null,
            "_view_module": "@jupyter-widgets/controls",
            "_view_module_version": "1.5.0",
            "_view_name": "ProgressView",
            "bar_style": "success",
            "description": "",
            "description_tooltip": null,
            "layout": "IPY_MODEL_609595a08b7f400293a747d56ae57691",
            "max": 346054435,
            "min": 0,
            "orientation": "horizontal",
            "style": "IPY_MODEL_69aee5d7b80646db96f3420a7f14e221",
            "value": 346054435
          }
        },
        "adb1f604bc934dac9141a46ad3be8efa": {
          "model_module": "@jupyter-widgets/controls",
          "model_name": "HTMLModel",
          "model_module_version": "1.5.0",
          "state": {
            "_dom_classes": [],
            "_model_module": "@jupyter-widgets/controls",
            "_model_module_version": "1.5.0",
            "_model_name": "HTMLModel",
            "_view_count": null,
            "_view_module": "@jupyter-widgets/controls",
            "_view_module_version": "1.5.0",
            "_view_name": "HTMLView",
            "description": "",
            "description_tooltip": null,
            "layout": "IPY_MODEL_6a26d4acbf3c4e129b5083b4d057f0e0",
            "placeholder": "​",
            "style": "IPY_MODEL_d768af82ff534f3ea70d27a6b324dd5d",
            "value": " 346M/346M [00:14&lt;00:00, 43.4MB/s]"
          }
        },
        "fa3cd37481fa42619f8a3b4ee05b1d18": {
          "model_module": "@jupyter-widgets/base",
          "model_name": "LayoutModel",
          "model_module_version": "1.2.0",
          "state": {
            "_model_module": "@jupyter-widgets/base",
            "_model_module_version": "1.2.0",
            "_model_name": "LayoutModel",
            "_view_count": null,
            "_view_module": "@jupyter-widgets/base",
            "_view_module_version": "1.2.0",
            "_view_name": "LayoutView",
            "align_content": null,
            "align_items": null,
            "align_self": null,
            "border": null,
            "bottom": null,
            "display": null,
            "flex": null,
            "flex_flow": null,
            "grid_area": null,
            "grid_auto_columns": null,
            "grid_auto_flow": null,
            "grid_auto_rows": null,
            "grid_column": null,
            "grid_gap": null,
            "grid_row": null,
            "grid_template_areas": null,
            "grid_template_columns": null,
            "grid_template_rows": null,
            "height": null,
            "justify_content": null,
            "justify_items": null,
            "left": null,
            "margin": null,
            "max_height": null,
            "max_width": null,
            "min_height": null,
            "min_width": null,
            "object_fit": null,
            "object_position": null,
            "order": null,
            "overflow": null,
            "overflow_x": null,
            "overflow_y": null,
            "padding": null,
            "right": null,
            "top": null,
            "visibility": null,
            "width": null
          }
        },
        "8358c0a4aa174e95bcbb6c0934ed2d9e": {
          "model_module": "@jupyter-widgets/base",
          "model_name": "LayoutModel",
          "model_module_version": "1.2.0",
          "state": {
            "_model_module": "@jupyter-widgets/base",
            "_model_module_version": "1.2.0",
            "_model_name": "LayoutModel",
            "_view_count": null,
            "_view_module": "@jupyter-widgets/base",
            "_view_module_version": "1.2.0",
            "_view_name": "LayoutView",
            "align_content": null,
            "align_items": null,
            "align_self": null,
            "border": null,
            "bottom": null,
            "display": null,
            "flex": null,
            "flex_flow": null,
            "grid_area": null,
            "grid_auto_columns": null,
            "grid_auto_flow": null,
            "grid_auto_rows": null,
            "grid_column": null,
            "grid_gap": null,
            "grid_row": null,
            "grid_template_areas": null,
            "grid_template_columns": null,
            "grid_template_rows": null,
            "height": null,
            "justify_content": null,
            "justify_items": null,
            "left": null,
            "margin": null,
            "max_height": null,
            "max_width": null,
            "min_height": null,
            "min_width": null,
            "object_fit": null,
            "object_position": null,
            "order": null,
            "overflow": null,
            "overflow_x": null,
            "overflow_y": null,
            "padding": null,
            "right": null,
            "top": null,
            "visibility": null,
            "width": null
          }
        },
        "8f0a61d819c74b7e91c7110218522190": {
          "model_module": "@jupyter-widgets/controls",
          "model_name": "DescriptionStyleModel",
          "model_module_version": "1.5.0",
          "state": {
            "_model_module": "@jupyter-widgets/controls",
            "_model_module_version": "1.5.0",
            "_model_name": "DescriptionStyleModel",
            "_view_count": null,
            "_view_module": "@jupyter-widgets/base",
            "_view_module_version": "1.2.0",
            "_view_name": "StyleView",
            "description_width": ""
          }
        },
        "609595a08b7f400293a747d56ae57691": {
          "model_module": "@jupyter-widgets/base",
          "model_name": "LayoutModel",
          "model_module_version": "1.2.0",
          "state": {
            "_model_module": "@jupyter-widgets/base",
            "_model_module_version": "1.2.0",
            "_model_name": "LayoutModel",
            "_view_count": null,
            "_view_module": "@jupyter-widgets/base",
            "_view_module_version": "1.2.0",
            "_view_name": "LayoutView",
            "align_content": null,
            "align_items": null,
            "align_self": null,
            "border": null,
            "bottom": null,
            "display": null,
            "flex": null,
            "flex_flow": null,
            "grid_area": null,
            "grid_auto_columns": null,
            "grid_auto_flow": null,
            "grid_auto_rows": null,
            "grid_column": null,
            "grid_gap": null,
            "grid_row": null,
            "grid_template_areas": null,
            "grid_template_columns": null,
            "grid_template_rows": null,
            "height": null,
            "justify_content": null,
            "justify_items": null,
            "left": null,
            "margin": null,
            "max_height": null,
            "max_width": null,
            "min_height": null,
            "min_width": null,
            "object_fit": null,
            "object_position": null,
            "order": null,
            "overflow": null,
            "overflow_x": null,
            "overflow_y": null,
            "padding": null,
            "right": null,
            "top": null,
            "visibility": null,
            "width": null
          }
        },
        "69aee5d7b80646db96f3420a7f14e221": {
          "model_module": "@jupyter-widgets/controls",
          "model_name": "ProgressStyleModel",
          "model_module_version": "1.5.0",
          "state": {
            "_model_module": "@jupyter-widgets/controls",
            "_model_module_version": "1.5.0",
            "_model_name": "ProgressStyleModel",
            "_view_count": null,
            "_view_module": "@jupyter-widgets/base",
            "_view_module_version": "1.2.0",
            "_view_name": "StyleView",
            "bar_color": null,
            "description_width": ""
          }
        },
        "6a26d4acbf3c4e129b5083b4d057f0e0": {
          "model_module": "@jupyter-widgets/base",
          "model_name": "LayoutModel",
          "model_module_version": "1.2.0",
          "state": {
            "_model_module": "@jupyter-widgets/base",
            "_model_module_version": "1.2.0",
            "_model_name": "LayoutModel",
            "_view_count": null,
            "_view_module": "@jupyter-widgets/base",
            "_view_module_version": "1.2.0",
            "_view_name": "LayoutView",
            "align_content": null,
            "align_items": null,
            "align_self": null,
            "border": null,
            "bottom": null,
            "display": null,
            "flex": null,
            "flex_flow": null,
            "grid_area": null,
            "grid_auto_columns": null,
            "grid_auto_flow": null,
            "grid_auto_rows": null,
            "grid_column": null,
            "grid_gap": null,
            "grid_row": null,
            "grid_template_areas": null,
            "grid_template_columns": null,
            "grid_template_rows": null,
            "height": null,
            "justify_content": null,
            "justify_items": null,
            "left": null,
            "margin": null,
            "max_height": null,
            "max_width": null,
            "min_height": null,
            "min_width": null,
            "object_fit": null,
            "object_position": null,
            "order": null,
            "overflow": null,
            "overflow_x": null,
            "overflow_y": null,
            "padding": null,
            "right": null,
            "top": null,
            "visibility": null,
            "width": null
          }
        },
        "d768af82ff534f3ea70d27a6b324dd5d": {
          "model_module": "@jupyter-widgets/controls",
          "model_name": "DescriptionStyleModel",
          "model_module_version": "1.5.0",
          "state": {
            "_model_module": "@jupyter-widgets/controls",
            "_model_module_version": "1.5.0",
            "_model_name": "DescriptionStyleModel",
            "_view_count": null,
            "_view_module": "@jupyter-widgets/base",
            "_view_module_version": "1.2.0",
            "_view_name": "StyleView",
            "description_width": ""
          }
        },
        "a75ed33be4514fe19a7f4dceab2c264b": {
          "model_module": "@jupyter-widgets/controls",
          "model_name": "HBoxModel",
          "model_module_version": "1.5.0",
          "state": {
            "_dom_classes": [],
            "_model_module": "@jupyter-widgets/controls",
            "_model_module_version": "1.5.0",
            "_model_name": "HBoxModel",
            "_view_count": null,
            "_view_module": "@jupyter-widgets/controls",
            "_view_module_version": "1.5.0",
            "_view_name": "HBoxView",
            "box_style": "",
            "children": [
              "IPY_MODEL_b606e226a01f4ea8820c633cbbad0cc9",
              "IPY_MODEL_b8db10ab29dc497e8b94d162d452ed98",
              "IPY_MODEL_00b18fb2f5854f6ca56fb461e858ae86"
            ],
            "layout": "IPY_MODEL_52e474979bdb442d8f3af51767b61821"
          }
        },
        "b606e226a01f4ea8820c633cbbad0cc9": {
          "model_module": "@jupyter-widgets/controls",
          "model_name": "HTMLModel",
          "model_module_version": "1.5.0",
          "state": {
            "_dom_classes": [],
            "_model_module": "@jupyter-widgets/controls",
            "_model_module_version": "1.5.0",
            "_model_name": "HTMLModel",
            "_view_count": null,
            "_view_module": "@jupyter-widgets/controls",
            "_view_module_version": "1.5.0",
            "_view_name": "HTMLView",
            "description": "",
            "description_tooltip": null,
            "layout": "IPY_MODEL_c0bbe3caf66849a5a40bd1abf946599c",
            "placeholder": "​",
            "style": "IPY_MODEL_35b5438b3bca4bd4b3ef89fa60f6d942",
            "value": "100%"
          }
        },
        "b8db10ab29dc497e8b94d162d452ed98": {
          "model_module": "@jupyter-widgets/controls",
          "model_name": "FloatProgressModel",
          "model_module_version": "1.5.0",
          "state": {
            "_dom_classes": [],
            "_model_module": "@jupyter-widgets/controls",
            "_model_module_version": "1.5.0",
            "_model_name": "FloatProgressModel",
            "_view_count": null,
            "_view_module": "@jupyter-widgets/controls",
            "_view_module_version": "1.5.0",
            "_view_name": "ProgressView",
            "bar_style": "success",
            "description": "",
            "description_tooltip": null,
            "layout": "IPY_MODEL_7acfd93ef5494c3dbf4cb2742f50d358",
            "max": 61,
            "min": 0,
            "orientation": "horizontal",
            "style": "IPY_MODEL_c558b1351c69430d8ae64351ec8e25d0",
            "value": 61
          }
        },
        "00b18fb2f5854f6ca56fb461e858ae86": {
          "model_module": "@jupyter-widgets/controls",
          "model_name": "HTMLModel",
          "model_module_version": "1.5.0",
          "state": {
            "_dom_classes": [],
            "_model_module": "@jupyter-widgets/controls",
            "_model_module_version": "1.5.0",
            "_model_name": "HTMLModel",
            "_view_count": null,
            "_view_module": "@jupyter-widgets/controls",
            "_view_module_version": "1.5.0",
            "_view_name": "HTMLView",
            "description": "",
            "description_tooltip": null,
            "layout": "IPY_MODEL_d2d9268d40c54f9396dc711581997de6",
            "placeholder": "​",
            "style": "IPY_MODEL_9a04b07875a84e03b2a278637bfa0efa",
            "value": " 61/61 [00:02&lt;00:00, 25.78it/s]"
          }
        },
        "52e474979bdb442d8f3af51767b61821": {
          "model_module": "@jupyter-widgets/base",
          "model_name": "LayoutModel",
          "model_module_version": "1.2.0",
          "state": {
            "_model_module": "@jupyter-widgets/base",
            "_model_module_version": "1.2.0",
            "_model_name": "LayoutModel",
            "_view_count": null,
            "_view_module": "@jupyter-widgets/base",
            "_view_module_version": "1.2.0",
            "_view_name": "LayoutView",
            "align_content": null,
            "align_items": null,
            "align_self": null,
            "border": null,
            "bottom": null,
            "display": null,
            "flex": null,
            "flex_flow": null,
            "grid_area": null,
            "grid_auto_columns": null,
            "grid_auto_flow": null,
            "grid_auto_rows": null,
            "grid_column": null,
            "grid_gap": null,
            "grid_row": null,
            "grid_template_areas": null,
            "grid_template_columns": null,
            "grid_template_rows": null,
            "height": null,
            "justify_content": null,
            "justify_items": null,
            "left": null,
            "margin": null,
            "max_height": null,
            "max_width": null,
            "min_height": null,
            "min_width": null,
            "object_fit": null,
            "object_position": null,
            "order": null,
            "overflow": null,
            "overflow_x": null,
            "overflow_y": null,
            "padding": null,
            "right": null,
            "top": null,
            "visibility": null,
            "width": null
          }
        },
        "c0bbe3caf66849a5a40bd1abf946599c": {
          "model_module": "@jupyter-widgets/base",
          "model_name": "LayoutModel",
          "model_module_version": "1.2.0",
          "state": {
            "_model_module": "@jupyter-widgets/base",
            "_model_module_version": "1.2.0",
            "_model_name": "LayoutModel",
            "_view_count": null,
            "_view_module": "@jupyter-widgets/base",
            "_view_module_version": "1.2.0",
            "_view_name": "LayoutView",
            "align_content": null,
            "align_items": null,
            "align_self": null,
            "border": null,
            "bottom": null,
            "display": null,
            "flex": null,
            "flex_flow": null,
            "grid_area": null,
            "grid_auto_columns": null,
            "grid_auto_flow": null,
            "grid_auto_rows": null,
            "grid_column": null,
            "grid_gap": null,
            "grid_row": null,
            "grid_template_areas": null,
            "grid_template_columns": null,
            "grid_template_rows": null,
            "height": null,
            "justify_content": null,
            "justify_items": null,
            "left": null,
            "margin": null,
            "max_height": null,
            "max_width": null,
            "min_height": null,
            "min_width": null,
            "object_fit": null,
            "object_position": null,
            "order": null,
            "overflow": null,
            "overflow_x": null,
            "overflow_y": null,
            "padding": null,
            "right": null,
            "top": null,
            "visibility": null,
            "width": null
          }
        },
        "35b5438b3bca4bd4b3ef89fa60f6d942": {
          "model_module": "@jupyter-widgets/controls",
          "model_name": "DescriptionStyleModel",
          "model_module_version": "1.5.0",
          "state": {
            "_model_module": "@jupyter-widgets/controls",
            "_model_module_version": "1.5.0",
            "_model_name": "DescriptionStyleModel",
            "_view_count": null,
            "_view_module": "@jupyter-widgets/base",
            "_view_module_version": "1.2.0",
            "_view_name": "StyleView",
            "description_width": ""
          }
        },
        "7acfd93ef5494c3dbf4cb2742f50d358": {
          "model_module": "@jupyter-widgets/base",
          "model_name": "LayoutModel",
          "model_module_version": "1.2.0",
          "state": {
            "_model_module": "@jupyter-widgets/base",
            "_model_module_version": "1.2.0",
            "_model_name": "LayoutModel",
            "_view_count": null,
            "_view_module": "@jupyter-widgets/base",
            "_view_module_version": "1.2.0",
            "_view_name": "LayoutView",
            "align_content": null,
            "align_items": null,
            "align_self": null,
            "border": null,
            "bottom": null,
            "display": null,
            "flex": null,
            "flex_flow": null,
            "grid_area": null,
            "grid_auto_columns": null,
            "grid_auto_flow": null,
            "grid_auto_rows": null,
            "grid_column": null,
            "grid_gap": null,
            "grid_row": null,
            "grid_template_areas": null,
            "grid_template_columns": null,
            "grid_template_rows": null,
            "height": null,
            "justify_content": null,
            "justify_items": null,
            "left": null,
            "margin": null,
            "max_height": null,
            "max_width": null,
            "min_height": null,
            "min_width": null,
            "object_fit": null,
            "object_position": null,
            "order": null,
            "overflow": null,
            "overflow_x": null,
            "overflow_y": null,
            "padding": null,
            "right": null,
            "top": null,
            "visibility": null,
            "width": null
          }
        },
        "c558b1351c69430d8ae64351ec8e25d0": {
          "model_module": "@jupyter-widgets/controls",
          "model_name": "ProgressStyleModel",
          "model_module_version": "1.5.0",
          "state": {
            "_model_module": "@jupyter-widgets/controls",
            "_model_module_version": "1.5.0",
            "_model_name": "ProgressStyleModel",
            "_view_count": null,
            "_view_module": "@jupyter-widgets/base",
            "_view_module_version": "1.2.0",
            "_view_name": "StyleView",
            "bar_color": null,
            "description_width": ""
          }
        },
        "d2d9268d40c54f9396dc711581997de6": {
          "model_module": "@jupyter-widgets/base",
          "model_name": "LayoutModel",
          "model_module_version": "1.2.0",
          "state": {
            "_model_module": "@jupyter-widgets/base",
            "_model_module_version": "1.2.0",
            "_model_name": "LayoutModel",
            "_view_count": null,
            "_view_module": "@jupyter-widgets/base",
            "_view_module_version": "1.2.0",
            "_view_name": "LayoutView",
            "align_content": null,
            "align_items": null,
            "align_self": null,
            "border": null,
            "bottom": null,
            "display": null,
            "flex": null,
            "flex_flow": null,
            "grid_area": null,
            "grid_auto_columns": null,
            "grid_auto_flow": null,
            "grid_auto_rows": null,
            "grid_column": null,
            "grid_gap": null,
            "grid_row": null,
            "grid_template_areas": null,
            "grid_template_columns": null,
            "grid_template_rows": null,
            "height": null,
            "justify_content": null,
            "justify_items": null,
            "left": null,
            "margin": null,
            "max_height": null,
            "max_width": null,
            "min_height": null,
            "min_width": null,
            "object_fit": null,
            "object_position": null,
            "order": null,
            "overflow": null,
            "overflow_x": null,
            "overflow_y": null,
            "padding": null,
            "right": null,
            "top": null,
            "visibility": null,
            "width": null
          }
        },
        "9a04b07875a84e03b2a278637bfa0efa": {
          "model_module": "@jupyter-widgets/controls",
          "model_name": "DescriptionStyleModel",
          "model_module_version": "1.5.0",
          "state": {
            "_model_module": "@jupyter-widgets/controls",
            "_model_module_version": "1.5.0",
            "_model_name": "DescriptionStyleModel",
            "_view_count": null,
            "_view_module": "@jupyter-widgets/base",
            "_view_module_version": "1.2.0",
            "_view_name": "StyleView",
            "description_width": ""
          }
        },
        "3e2bd4d039f048acbcf96de5dd3e9a0c": {
          "model_module": "@jupyter-widgets/controls",
          "model_name": "HBoxModel",
          "model_module_version": "1.5.0",
          "state": {
            "_dom_classes": [],
            "_model_module": "@jupyter-widgets/controls",
            "_model_module_version": "1.5.0",
            "_model_name": "HBoxModel",
            "_view_count": null,
            "_view_module": "@jupyter-widgets/controls",
            "_view_module_version": "1.5.0",
            "_view_name": "HBoxView",
            "box_style": "",
            "children": [
              "IPY_MODEL_1ca2288a6dba48428e787e5a49a09395",
              "IPY_MODEL_4eebce0238a34aa29b61e7b345768706",
              "IPY_MODEL_c1429d33c5894bc39bdd7d93f2f4b154"
            ],
            "layout": "IPY_MODEL_0aa52fee8d114d0d96bd10d51431bd40"
          }
        },
        "1ca2288a6dba48428e787e5a49a09395": {
          "model_module": "@jupyter-widgets/controls",
          "model_name": "HTMLModel",
          "model_module_version": "1.5.0",
          "state": {
            "_dom_classes": [],
            "_model_module": "@jupyter-widgets/controls",
            "_model_module_version": "1.5.0",
            "_model_name": "HTMLModel",
            "_view_count": null,
            "_view_module": "@jupyter-widgets/controls",
            "_view_module_version": "1.5.0",
            "_view_name": "HTMLView",
            "description": "",
            "description_tooltip": null,
            "layout": "IPY_MODEL_dbdec0b58da44e38971ed0c64346a341",
            "placeholder": "​",
            "style": "IPY_MODEL_efbb49c8205c436cb2b3e46b8397b0f5",
            "value": "100%"
          }
        },
        "4eebce0238a34aa29b61e7b345768706": {
          "model_module": "@jupyter-widgets/controls",
          "model_name": "FloatProgressModel",
          "model_module_version": "1.5.0",
          "state": {
            "_dom_classes": [],
            "_model_module": "@jupyter-widgets/controls",
            "_model_module_version": "1.5.0",
            "_model_name": "FloatProgressModel",
            "_view_count": null,
            "_view_module": "@jupyter-widgets/controls",
            "_view_module_version": "1.5.0",
            "_view_name": "ProgressView",
            "bar_style": "success",
            "description": "",
            "description_tooltip": null,
            "layout": "IPY_MODEL_72c248de06d242bd9784f9e59a1a89f0",
            "max": 61,
            "min": 0,
            "orientation": "horizontal",
            "style": "IPY_MODEL_b1962cb6b4dc4fa3857e65a4d92ac351",
            "value": 61
          }
        },
        "c1429d33c5894bc39bdd7d93f2f4b154": {
          "model_module": "@jupyter-widgets/controls",
          "model_name": "HTMLModel",
          "model_module_version": "1.5.0",
          "state": {
            "_dom_classes": [],
            "_model_module": "@jupyter-widgets/controls",
            "_model_module_version": "1.5.0",
            "_model_name": "HTMLModel",
            "_view_count": null,
            "_view_module": "@jupyter-widgets/controls",
            "_view_module_version": "1.5.0",
            "_view_name": "HTMLView",
            "description": "",
            "description_tooltip": null,
            "layout": "IPY_MODEL_2e7b13e4448244f6ab76d51f0ac19a7a",
            "placeholder": "​",
            "style": "IPY_MODEL_bcc962e3439a44c68aebce30aabaf1e5",
            "value": " 61/61 [00:02&lt;00:00, 27.08it/s]"
          }
        },
        "0aa52fee8d114d0d96bd10d51431bd40": {
          "model_module": "@jupyter-widgets/base",
          "model_name": "LayoutModel",
          "model_module_version": "1.2.0",
          "state": {
            "_model_module": "@jupyter-widgets/base",
            "_model_module_version": "1.2.0",
            "_model_name": "LayoutModel",
            "_view_count": null,
            "_view_module": "@jupyter-widgets/base",
            "_view_module_version": "1.2.0",
            "_view_name": "LayoutView",
            "align_content": null,
            "align_items": null,
            "align_self": null,
            "border": null,
            "bottom": null,
            "display": null,
            "flex": null,
            "flex_flow": null,
            "grid_area": null,
            "grid_auto_columns": null,
            "grid_auto_flow": null,
            "grid_auto_rows": null,
            "grid_column": null,
            "grid_gap": null,
            "grid_row": null,
            "grid_template_areas": null,
            "grid_template_columns": null,
            "grid_template_rows": null,
            "height": null,
            "justify_content": null,
            "justify_items": null,
            "left": null,
            "margin": null,
            "max_height": null,
            "max_width": null,
            "min_height": null,
            "min_width": null,
            "object_fit": null,
            "object_position": null,
            "order": null,
            "overflow": null,
            "overflow_x": null,
            "overflow_y": null,
            "padding": null,
            "right": null,
            "top": null,
            "visibility": null,
            "width": null
          }
        },
        "dbdec0b58da44e38971ed0c64346a341": {
          "model_module": "@jupyter-widgets/base",
          "model_name": "LayoutModel",
          "model_module_version": "1.2.0",
          "state": {
            "_model_module": "@jupyter-widgets/base",
            "_model_module_version": "1.2.0",
            "_model_name": "LayoutModel",
            "_view_count": null,
            "_view_module": "@jupyter-widgets/base",
            "_view_module_version": "1.2.0",
            "_view_name": "LayoutView",
            "align_content": null,
            "align_items": null,
            "align_self": null,
            "border": null,
            "bottom": null,
            "display": null,
            "flex": null,
            "flex_flow": null,
            "grid_area": null,
            "grid_auto_columns": null,
            "grid_auto_flow": null,
            "grid_auto_rows": null,
            "grid_column": null,
            "grid_gap": null,
            "grid_row": null,
            "grid_template_areas": null,
            "grid_template_columns": null,
            "grid_template_rows": null,
            "height": null,
            "justify_content": null,
            "justify_items": null,
            "left": null,
            "margin": null,
            "max_height": null,
            "max_width": null,
            "min_height": null,
            "min_width": null,
            "object_fit": null,
            "object_position": null,
            "order": null,
            "overflow": null,
            "overflow_x": null,
            "overflow_y": null,
            "padding": null,
            "right": null,
            "top": null,
            "visibility": null,
            "width": null
          }
        },
        "efbb49c8205c436cb2b3e46b8397b0f5": {
          "model_module": "@jupyter-widgets/controls",
          "model_name": "DescriptionStyleModel",
          "model_module_version": "1.5.0",
          "state": {
            "_model_module": "@jupyter-widgets/controls",
            "_model_module_version": "1.5.0",
            "_model_name": "DescriptionStyleModel",
            "_view_count": null,
            "_view_module": "@jupyter-widgets/base",
            "_view_module_version": "1.2.0",
            "_view_name": "StyleView",
            "description_width": ""
          }
        },
        "72c248de06d242bd9784f9e59a1a89f0": {
          "model_module": "@jupyter-widgets/base",
          "model_name": "LayoutModel",
          "model_module_version": "1.2.0",
          "state": {
            "_model_module": "@jupyter-widgets/base",
            "_model_module_version": "1.2.0",
            "_model_name": "LayoutModel",
            "_view_count": null,
            "_view_module": "@jupyter-widgets/base",
            "_view_module_version": "1.2.0",
            "_view_name": "LayoutView",
            "align_content": null,
            "align_items": null,
            "align_self": null,
            "border": null,
            "bottom": null,
            "display": null,
            "flex": null,
            "flex_flow": null,
            "grid_area": null,
            "grid_auto_columns": null,
            "grid_auto_flow": null,
            "grid_auto_rows": null,
            "grid_column": null,
            "grid_gap": null,
            "grid_row": null,
            "grid_template_areas": null,
            "grid_template_columns": null,
            "grid_template_rows": null,
            "height": null,
            "justify_content": null,
            "justify_items": null,
            "left": null,
            "margin": null,
            "max_height": null,
            "max_width": null,
            "min_height": null,
            "min_width": null,
            "object_fit": null,
            "object_position": null,
            "order": null,
            "overflow": null,
            "overflow_x": null,
            "overflow_y": null,
            "padding": null,
            "right": null,
            "top": null,
            "visibility": null,
            "width": null
          }
        },
        "b1962cb6b4dc4fa3857e65a4d92ac351": {
          "model_module": "@jupyter-widgets/controls",
          "model_name": "ProgressStyleModel",
          "model_module_version": "1.5.0",
          "state": {
            "_model_module": "@jupyter-widgets/controls",
            "_model_module_version": "1.5.0",
            "_model_name": "ProgressStyleModel",
            "_view_count": null,
            "_view_module": "@jupyter-widgets/base",
            "_view_module_version": "1.2.0",
            "_view_name": "StyleView",
            "bar_color": null,
            "description_width": ""
          }
        },
        "2e7b13e4448244f6ab76d51f0ac19a7a": {
          "model_module": "@jupyter-widgets/base",
          "model_name": "LayoutModel",
          "model_module_version": "1.2.0",
          "state": {
            "_model_module": "@jupyter-widgets/base",
            "_model_module_version": "1.2.0",
            "_model_name": "LayoutModel",
            "_view_count": null,
            "_view_module": "@jupyter-widgets/base",
            "_view_module_version": "1.2.0",
            "_view_name": "LayoutView",
            "align_content": null,
            "align_items": null,
            "align_self": null,
            "border": null,
            "bottom": null,
            "display": null,
            "flex": null,
            "flex_flow": null,
            "grid_area": null,
            "grid_auto_columns": null,
            "grid_auto_flow": null,
            "grid_auto_rows": null,
            "grid_column": null,
            "grid_gap": null,
            "grid_row": null,
            "grid_template_areas": null,
            "grid_template_columns": null,
            "grid_template_rows": null,
            "height": null,
            "justify_content": null,
            "justify_items": null,
            "left": null,
            "margin": null,
            "max_height": null,
            "max_width": null,
            "min_height": null,
            "min_width": null,
            "object_fit": null,
            "object_position": null,
            "order": null,
            "overflow": null,
            "overflow_x": null,
            "overflow_y": null,
            "padding": null,
            "right": null,
            "top": null,
            "visibility": null,
            "width": null
          }
        },
        "bcc962e3439a44c68aebce30aabaf1e5": {
          "model_module": "@jupyter-widgets/controls",
          "model_name": "DescriptionStyleModel",
          "model_module_version": "1.5.0",
          "state": {
            "_model_module": "@jupyter-widgets/controls",
            "_model_module_version": "1.5.0",
            "_model_name": "DescriptionStyleModel",
            "_view_count": null,
            "_view_module": "@jupyter-widgets/base",
            "_view_module_version": "1.2.0",
            "_view_name": "StyleView",
            "description_width": ""
          }
        },
        "3324db551d80429da731b4da15840563": {
          "model_module": "@jupyter-widgets/controls",
          "model_name": "HBoxModel",
          "model_module_version": "1.5.0",
          "state": {
            "_dom_classes": [],
            "_model_module": "@jupyter-widgets/controls",
            "_model_module_version": "1.5.0",
            "_model_name": "HBoxModel",
            "_view_count": null,
            "_view_module": "@jupyter-widgets/controls",
            "_view_module_version": "1.5.0",
            "_view_name": "HBoxView",
            "box_style": "",
            "children": [
              "IPY_MODEL_13cee64ca81a43d9b646612a601f39d4",
              "IPY_MODEL_55f7f10ad12540c6847c18f57a16132b",
              "IPY_MODEL_db0ba33f76314fd29673488cd1ab2243"
            ],
            "layout": "IPY_MODEL_9753ccf46e164114a0b141e091331cf4"
          }
        },
        "13cee64ca81a43d9b646612a601f39d4": {
          "model_module": "@jupyter-widgets/controls",
          "model_name": "HTMLModel",
          "model_module_version": "1.5.0",
          "state": {
            "_dom_classes": [],
            "_model_module": "@jupyter-widgets/controls",
            "_model_module_version": "1.5.0",
            "_model_name": "HTMLModel",
            "_view_count": null,
            "_view_module": "@jupyter-widgets/controls",
            "_view_module_version": "1.5.0",
            "_view_name": "HTMLView",
            "description": "",
            "description_tooltip": null,
            "layout": "IPY_MODEL_793132a5a6da41fa84d0fbcc03884963",
            "placeholder": "​",
            "style": "IPY_MODEL_b3a824b2118b466e8a72b4cfd784c2ec",
            "value": "100%"
          }
        },
        "55f7f10ad12540c6847c18f57a16132b": {
          "model_module": "@jupyter-widgets/controls",
          "model_name": "FloatProgressModel",
          "model_module_version": "1.5.0",
          "state": {
            "_dom_classes": [],
            "_model_module": "@jupyter-widgets/controls",
            "_model_module_version": "1.5.0",
            "_model_name": "FloatProgressModel",
            "_view_count": null,
            "_view_module": "@jupyter-widgets/controls",
            "_view_module_version": "1.5.0",
            "_view_name": "ProgressView",
            "bar_style": "success",
            "description": "",
            "description_tooltip": null,
            "layout": "IPY_MODEL_b4f019c719c4485ab2d3a24bc3c67e3d",
            "max": 61,
            "min": 0,
            "orientation": "horizontal",
            "style": "IPY_MODEL_33a1546b54494ec0a5605418bbf55a8b",
            "value": 61
          }
        },
        "db0ba33f76314fd29673488cd1ab2243": {
          "model_module": "@jupyter-widgets/controls",
          "model_name": "HTMLModel",
          "model_module_version": "1.5.0",
          "state": {
            "_dom_classes": [],
            "_model_module": "@jupyter-widgets/controls",
            "_model_module_version": "1.5.0",
            "_model_name": "HTMLModel",
            "_view_count": null,
            "_view_module": "@jupyter-widgets/controls",
            "_view_module_version": "1.5.0",
            "_view_name": "HTMLView",
            "description": "",
            "description_tooltip": null,
            "layout": "IPY_MODEL_c228fae2e2e84efd8d511e7c02926c63",
            "placeholder": "​",
            "style": "IPY_MODEL_5718643e08ca4f028ae40f2e9f1a4ad8",
            "value": " 61/61 [00:02&lt;00:00, 25.28it/s]"
          }
        },
        "9753ccf46e164114a0b141e091331cf4": {
          "model_module": "@jupyter-widgets/base",
          "model_name": "LayoutModel",
          "model_module_version": "1.2.0",
          "state": {
            "_model_module": "@jupyter-widgets/base",
            "_model_module_version": "1.2.0",
            "_model_name": "LayoutModel",
            "_view_count": null,
            "_view_module": "@jupyter-widgets/base",
            "_view_module_version": "1.2.0",
            "_view_name": "LayoutView",
            "align_content": null,
            "align_items": null,
            "align_self": null,
            "border": null,
            "bottom": null,
            "display": null,
            "flex": null,
            "flex_flow": null,
            "grid_area": null,
            "grid_auto_columns": null,
            "grid_auto_flow": null,
            "grid_auto_rows": null,
            "grid_column": null,
            "grid_gap": null,
            "grid_row": null,
            "grid_template_areas": null,
            "grid_template_columns": null,
            "grid_template_rows": null,
            "height": null,
            "justify_content": null,
            "justify_items": null,
            "left": null,
            "margin": null,
            "max_height": null,
            "max_width": null,
            "min_height": null,
            "min_width": null,
            "object_fit": null,
            "object_position": null,
            "order": null,
            "overflow": null,
            "overflow_x": null,
            "overflow_y": null,
            "padding": null,
            "right": null,
            "top": null,
            "visibility": null,
            "width": null
          }
        },
        "793132a5a6da41fa84d0fbcc03884963": {
          "model_module": "@jupyter-widgets/base",
          "model_name": "LayoutModel",
          "model_module_version": "1.2.0",
          "state": {
            "_model_module": "@jupyter-widgets/base",
            "_model_module_version": "1.2.0",
            "_model_name": "LayoutModel",
            "_view_count": null,
            "_view_module": "@jupyter-widgets/base",
            "_view_module_version": "1.2.0",
            "_view_name": "LayoutView",
            "align_content": null,
            "align_items": null,
            "align_self": null,
            "border": null,
            "bottom": null,
            "display": null,
            "flex": null,
            "flex_flow": null,
            "grid_area": null,
            "grid_auto_columns": null,
            "grid_auto_flow": null,
            "grid_auto_rows": null,
            "grid_column": null,
            "grid_gap": null,
            "grid_row": null,
            "grid_template_areas": null,
            "grid_template_columns": null,
            "grid_template_rows": null,
            "height": null,
            "justify_content": null,
            "justify_items": null,
            "left": null,
            "margin": null,
            "max_height": null,
            "max_width": null,
            "min_height": null,
            "min_width": null,
            "object_fit": null,
            "object_position": null,
            "order": null,
            "overflow": null,
            "overflow_x": null,
            "overflow_y": null,
            "padding": null,
            "right": null,
            "top": null,
            "visibility": null,
            "width": null
          }
        },
        "b3a824b2118b466e8a72b4cfd784c2ec": {
          "model_module": "@jupyter-widgets/controls",
          "model_name": "DescriptionStyleModel",
          "model_module_version": "1.5.0",
          "state": {
            "_model_module": "@jupyter-widgets/controls",
            "_model_module_version": "1.5.0",
            "_model_name": "DescriptionStyleModel",
            "_view_count": null,
            "_view_module": "@jupyter-widgets/base",
            "_view_module_version": "1.2.0",
            "_view_name": "StyleView",
            "description_width": ""
          }
        },
        "b4f019c719c4485ab2d3a24bc3c67e3d": {
          "model_module": "@jupyter-widgets/base",
          "model_name": "LayoutModel",
          "model_module_version": "1.2.0",
          "state": {
            "_model_module": "@jupyter-widgets/base",
            "_model_module_version": "1.2.0",
            "_model_name": "LayoutModel",
            "_view_count": null,
            "_view_module": "@jupyter-widgets/base",
            "_view_module_version": "1.2.0",
            "_view_name": "LayoutView",
            "align_content": null,
            "align_items": null,
            "align_self": null,
            "border": null,
            "bottom": null,
            "display": null,
            "flex": null,
            "flex_flow": null,
            "grid_area": null,
            "grid_auto_columns": null,
            "grid_auto_flow": null,
            "grid_auto_rows": null,
            "grid_column": null,
            "grid_gap": null,
            "grid_row": null,
            "grid_template_areas": null,
            "grid_template_columns": null,
            "grid_template_rows": null,
            "height": null,
            "justify_content": null,
            "justify_items": null,
            "left": null,
            "margin": null,
            "max_height": null,
            "max_width": null,
            "min_height": null,
            "min_width": null,
            "object_fit": null,
            "object_position": null,
            "order": null,
            "overflow": null,
            "overflow_x": null,
            "overflow_y": null,
            "padding": null,
            "right": null,
            "top": null,
            "visibility": null,
            "width": null
          }
        },
        "33a1546b54494ec0a5605418bbf55a8b": {
          "model_module": "@jupyter-widgets/controls",
          "model_name": "ProgressStyleModel",
          "model_module_version": "1.5.0",
          "state": {
            "_model_module": "@jupyter-widgets/controls",
            "_model_module_version": "1.5.0",
            "_model_name": "ProgressStyleModel",
            "_view_count": null,
            "_view_module": "@jupyter-widgets/base",
            "_view_module_version": "1.2.0",
            "_view_name": "StyleView",
            "bar_color": null,
            "description_width": ""
          }
        },
        "c228fae2e2e84efd8d511e7c02926c63": {
          "model_module": "@jupyter-widgets/base",
          "model_name": "LayoutModel",
          "model_module_version": "1.2.0",
          "state": {
            "_model_module": "@jupyter-widgets/base",
            "_model_module_version": "1.2.0",
            "_model_name": "LayoutModel",
            "_view_count": null,
            "_view_module": "@jupyter-widgets/base",
            "_view_module_version": "1.2.0",
            "_view_name": "LayoutView",
            "align_content": null,
            "align_items": null,
            "align_self": null,
            "border": null,
            "bottom": null,
            "display": null,
            "flex": null,
            "flex_flow": null,
            "grid_area": null,
            "grid_auto_columns": null,
            "grid_auto_flow": null,
            "grid_auto_rows": null,
            "grid_column": null,
            "grid_gap": null,
            "grid_row": null,
            "grid_template_areas": null,
            "grid_template_columns": null,
            "grid_template_rows": null,
            "height": null,
            "justify_content": null,
            "justify_items": null,
            "left": null,
            "margin": null,
            "max_height": null,
            "max_width": null,
            "min_height": null,
            "min_width": null,
            "object_fit": null,
            "object_position": null,
            "order": null,
            "overflow": null,
            "overflow_x": null,
            "overflow_y": null,
            "padding": null,
            "right": null,
            "top": null,
            "visibility": null,
            "width": null
          }
        },
        "5718643e08ca4f028ae40f2e9f1a4ad8": {
          "model_module": "@jupyter-widgets/controls",
          "model_name": "DescriptionStyleModel",
          "model_module_version": "1.5.0",
          "state": {
            "_model_module": "@jupyter-widgets/controls",
            "_model_module_version": "1.5.0",
            "_model_name": "DescriptionStyleModel",
            "_view_count": null,
            "_view_module": "@jupyter-widgets/base",
            "_view_module_version": "1.2.0",
            "_view_name": "StyleView",
            "description_width": ""
          }
        },
        "6d70e2f007a84ba9b56db7768322a3af": {
          "model_module": "@jupyter-widgets/controls",
          "model_name": "HBoxModel",
          "model_module_version": "1.5.0",
          "state": {
            "_dom_classes": [],
            "_model_module": "@jupyter-widgets/controls",
            "_model_module_version": "1.5.0",
            "_model_name": "HBoxModel",
            "_view_count": null,
            "_view_module": "@jupyter-widgets/controls",
            "_view_module_version": "1.5.0",
            "_view_name": "HBoxView",
            "box_style": "",
            "children": [
              "IPY_MODEL_8745bfd7e21f41989e66166f50dfaa9e",
              "IPY_MODEL_fa6bc0bf1d324de7a7c2b2cdec4b51a6",
              "IPY_MODEL_e2999328f9404d68b1d0c416e318fca9"
            ],
            "layout": "IPY_MODEL_ad46692fb3c24c369caa65faed349f5d"
          }
        },
        "8745bfd7e21f41989e66166f50dfaa9e": {
          "model_module": "@jupyter-widgets/controls",
          "model_name": "HTMLModel",
          "model_module_version": "1.5.0",
          "state": {
            "_dom_classes": [],
            "_model_module": "@jupyter-widgets/controls",
            "_model_module_version": "1.5.0",
            "_model_name": "HTMLModel",
            "_view_count": null,
            "_view_module": "@jupyter-widgets/controls",
            "_view_module_version": "1.5.0",
            "_view_name": "HTMLView",
            "description": "",
            "description_tooltip": null,
            "layout": "IPY_MODEL_22354f8ee5e646b39c3124dfef6e1359",
            "placeholder": "​",
            "style": "IPY_MODEL_749438e03e8440e9acef6dbdd2aa3520",
            "value": "100%"
          }
        },
        "fa6bc0bf1d324de7a7c2b2cdec4b51a6": {
          "model_module": "@jupyter-widgets/controls",
          "model_name": "FloatProgressModel",
          "model_module_version": "1.5.0",
          "state": {
            "_dom_classes": [],
            "_model_module": "@jupyter-widgets/controls",
            "_model_module_version": "1.5.0",
            "_model_name": "FloatProgressModel",
            "_view_count": null,
            "_view_module": "@jupyter-widgets/controls",
            "_view_module_version": "1.5.0",
            "_view_name": "ProgressView",
            "bar_style": "success",
            "description": "",
            "description_tooltip": null,
            "layout": "IPY_MODEL_1e1f156f9ec84fc094fd66caae2cefcb",
            "max": 61,
            "min": 0,
            "orientation": "horizontal",
            "style": "IPY_MODEL_a6b10302410643a69f258734a6b32fcc",
            "value": 61
          }
        },
        "e2999328f9404d68b1d0c416e318fca9": {
          "model_module": "@jupyter-widgets/controls",
          "model_name": "HTMLModel",
          "model_module_version": "1.5.0",
          "state": {
            "_dom_classes": [],
            "_model_module": "@jupyter-widgets/controls",
            "_model_module_version": "1.5.0",
            "_model_name": "HTMLModel",
            "_view_count": null,
            "_view_module": "@jupyter-widgets/controls",
            "_view_module_version": "1.5.0",
            "_view_name": "HTMLView",
            "description": "",
            "description_tooltip": null,
            "layout": "IPY_MODEL_0dd10f7f2993477fafbf0642dd101d81",
            "placeholder": "​",
            "style": "IPY_MODEL_2592396b061344ba990ecc7212bfb4a7",
            "value": " 61/61 [00:02&lt;00:00, 26.57it/s]"
          }
        },
        "ad46692fb3c24c369caa65faed349f5d": {
          "model_module": "@jupyter-widgets/base",
          "model_name": "LayoutModel",
          "model_module_version": "1.2.0",
          "state": {
            "_model_module": "@jupyter-widgets/base",
            "_model_module_version": "1.2.0",
            "_model_name": "LayoutModel",
            "_view_count": null,
            "_view_module": "@jupyter-widgets/base",
            "_view_module_version": "1.2.0",
            "_view_name": "LayoutView",
            "align_content": null,
            "align_items": null,
            "align_self": null,
            "border": null,
            "bottom": null,
            "display": null,
            "flex": null,
            "flex_flow": null,
            "grid_area": null,
            "grid_auto_columns": null,
            "grid_auto_flow": null,
            "grid_auto_rows": null,
            "grid_column": null,
            "grid_gap": null,
            "grid_row": null,
            "grid_template_areas": null,
            "grid_template_columns": null,
            "grid_template_rows": null,
            "height": null,
            "justify_content": null,
            "justify_items": null,
            "left": null,
            "margin": null,
            "max_height": null,
            "max_width": null,
            "min_height": null,
            "min_width": null,
            "object_fit": null,
            "object_position": null,
            "order": null,
            "overflow": null,
            "overflow_x": null,
            "overflow_y": null,
            "padding": null,
            "right": null,
            "top": null,
            "visibility": null,
            "width": null
          }
        },
        "22354f8ee5e646b39c3124dfef6e1359": {
          "model_module": "@jupyter-widgets/base",
          "model_name": "LayoutModel",
          "model_module_version": "1.2.0",
          "state": {
            "_model_module": "@jupyter-widgets/base",
            "_model_module_version": "1.2.0",
            "_model_name": "LayoutModel",
            "_view_count": null,
            "_view_module": "@jupyter-widgets/base",
            "_view_module_version": "1.2.0",
            "_view_name": "LayoutView",
            "align_content": null,
            "align_items": null,
            "align_self": null,
            "border": null,
            "bottom": null,
            "display": null,
            "flex": null,
            "flex_flow": null,
            "grid_area": null,
            "grid_auto_columns": null,
            "grid_auto_flow": null,
            "grid_auto_rows": null,
            "grid_column": null,
            "grid_gap": null,
            "grid_row": null,
            "grid_template_areas": null,
            "grid_template_columns": null,
            "grid_template_rows": null,
            "height": null,
            "justify_content": null,
            "justify_items": null,
            "left": null,
            "margin": null,
            "max_height": null,
            "max_width": null,
            "min_height": null,
            "min_width": null,
            "object_fit": null,
            "object_position": null,
            "order": null,
            "overflow": null,
            "overflow_x": null,
            "overflow_y": null,
            "padding": null,
            "right": null,
            "top": null,
            "visibility": null,
            "width": null
          }
        },
        "749438e03e8440e9acef6dbdd2aa3520": {
          "model_module": "@jupyter-widgets/controls",
          "model_name": "DescriptionStyleModel",
          "model_module_version": "1.5.0",
          "state": {
            "_model_module": "@jupyter-widgets/controls",
            "_model_module_version": "1.5.0",
            "_model_name": "DescriptionStyleModel",
            "_view_count": null,
            "_view_module": "@jupyter-widgets/base",
            "_view_module_version": "1.2.0",
            "_view_name": "StyleView",
            "description_width": ""
          }
        },
        "1e1f156f9ec84fc094fd66caae2cefcb": {
          "model_module": "@jupyter-widgets/base",
          "model_name": "LayoutModel",
          "model_module_version": "1.2.0",
          "state": {
            "_model_module": "@jupyter-widgets/base",
            "_model_module_version": "1.2.0",
            "_model_name": "LayoutModel",
            "_view_count": null,
            "_view_module": "@jupyter-widgets/base",
            "_view_module_version": "1.2.0",
            "_view_name": "LayoutView",
            "align_content": null,
            "align_items": null,
            "align_self": null,
            "border": null,
            "bottom": null,
            "display": null,
            "flex": null,
            "flex_flow": null,
            "grid_area": null,
            "grid_auto_columns": null,
            "grid_auto_flow": null,
            "grid_auto_rows": null,
            "grid_column": null,
            "grid_gap": null,
            "grid_row": null,
            "grid_template_areas": null,
            "grid_template_columns": null,
            "grid_template_rows": null,
            "height": null,
            "justify_content": null,
            "justify_items": null,
            "left": null,
            "margin": null,
            "max_height": null,
            "max_width": null,
            "min_height": null,
            "min_width": null,
            "object_fit": null,
            "object_position": null,
            "order": null,
            "overflow": null,
            "overflow_x": null,
            "overflow_y": null,
            "padding": null,
            "right": null,
            "top": null,
            "visibility": null,
            "width": null
          }
        },
        "a6b10302410643a69f258734a6b32fcc": {
          "model_module": "@jupyter-widgets/controls",
          "model_name": "ProgressStyleModel",
          "model_module_version": "1.5.0",
          "state": {
            "_model_module": "@jupyter-widgets/controls",
            "_model_module_version": "1.5.0",
            "_model_name": "ProgressStyleModel",
            "_view_count": null,
            "_view_module": "@jupyter-widgets/base",
            "_view_module_version": "1.2.0",
            "_view_name": "StyleView",
            "bar_color": null,
            "description_width": ""
          }
        },
        "0dd10f7f2993477fafbf0642dd101d81": {
          "model_module": "@jupyter-widgets/base",
          "model_name": "LayoutModel",
          "model_module_version": "1.2.0",
          "state": {
            "_model_module": "@jupyter-widgets/base",
            "_model_module_version": "1.2.0",
            "_model_name": "LayoutModel",
            "_view_count": null,
            "_view_module": "@jupyter-widgets/base",
            "_view_module_version": "1.2.0",
            "_view_name": "LayoutView",
            "align_content": null,
            "align_items": null,
            "align_self": null,
            "border": null,
            "bottom": null,
            "display": null,
            "flex": null,
            "flex_flow": null,
            "grid_area": null,
            "grid_auto_columns": null,
            "grid_auto_flow": null,
            "grid_auto_rows": null,
            "grid_column": null,
            "grid_gap": null,
            "grid_row": null,
            "grid_template_areas": null,
            "grid_template_columns": null,
            "grid_template_rows": null,
            "height": null,
            "justify_content": null,
            "justify_items": null,
            "left": null,
            "margin": null,
            "max_height": null,
            "max_width": null,
            "min_height": null,
            "min_width": null,
            "object_fit": null,
            "object_position": null,
            "order": null,
            "overflow": null,
            "overflow_x": null,
            "overflow_y": null,
            "padding": null,
            "right": null,
            "top": null,
            "visibility": null,
            "width": null
          }
        },
        "2592396b061344ba990ecc7212bfb4a7": {
          "model_module": "@jupyter-widgets/controls",
          "model_name": "DescriptionStyleModel",
          "model_module_version": "1.5.0",
          "state": {
            "_model_module": "@jupyter-widgets/controls",
            "_model_module_version": "1.5.0",
            "_model_name": "DescriptionStyleModel",
            "_view_count": null,
            "_view_module": "@jupyter-widgets/base",
            "_view_module_version": "1.2.0",
            "_view_name": "StyleView",
            "description_width": ""
          }
        },
        "f0d3708852f2475b94e1054211563a29": {
          "model_module": "@jupyter-widgets/controls",
          "model_name": "HBoxModel",
          "model_module_version": "1.5.0",
          "state": {
            "_dom_classes": [],
            "_model_module": "@jupyter-widgets/controls",
            "_model_module_version": "1.5.0",
            "_model_name": "HBoxModel",
            "_view_count": null,
            "_view_module": "@jupyter-widgets/controls",
            "_view_module_version": "1.5.0",
            "_view_name": "HBoxView",
            "box_style": "",
            "children": [
              "IPY_MODEL_3d9e9c1331e34c6e9fd210d4ea5f3dca",
              "IPY_MODEL_e7105ddf6d6844be9bb08f2440d5f70f",
              "IPY_MODEL_c98e9cfcd08346ecaca4ee1014eacfde"
            ],
            "layout": "IPY_MODEL_6e35428e50764f1d84ea1ef1b25146a5"
          }
        },
        "3d9e9c1331e34c6e9fd210d4ea5f3dca": {
          "model_module": "@jupyter-widgets/controls",
          "model_name": "HTMLModel",
          "model_module_version": "1.5.0",
          "state": {
            "_dom_classes": [],
            "_model_module": "@jupyter-widgets/controls",
            "_model_module_version": "1.5.0",
            "_model_name": "HTMLModel",
            "_view_count": null,
            "_view_module": "@jupyter-widgets/controls",
            "_view_module_version": "1.5.0",
            "_view_name": "HTMLView",
            "description": "",
            "description_tooltip": null,
            "layout": "IPY_MODEL_810ebd9fd66046fa9b43fbc64dcecec6",
            "placeholder": "​",
            "style": "IPY_MODEL_ea7211f0c3cd4726b88f4fcc46659cd9",
            "value": "100%"
          }
        },
        "e7105ddf6d6844be9bb08f2440d5f70f": {
          "model_module": "@jupyter-widgets/controls",
          "model_name": "FloatProgressModel",
          "model_module_version": "1.5.0",
          "state": {
            "_dom_classes": [],
            "_model_module": "@jupyter-widgets/controls",
            "_model_module_version": "1.5.0",
            "_model_name": "FloatProgressModel",
            "_view_count": null,
            "_view_module": "@jupyter-widgets/controls",
            "_view_module_version": "1.5.0",
            "_view_name": "ProgressView",
            "bar_style": "success",
            "description": "",
            "description_tooltip": null,
            "layout": "IPY_MODEL_37b742d824bb43819f644775a48f7d34",
            "max": 61,
            "min": 0,
            "orientation": "horizontal",
            "style": "IPY_MODEL_5f7859a3d03441d2b320fa683d705834",
            "value": 61
          }
        },
        "c98e9cfcd08346ecaca4ee1014eacfde": {
          "model_module": "@jupyter-widgets/controls",
          "model_name": "HTMLModel",
          "model_module_version": "1.5.0",
          "state": {
            "_dom_classes": [],
            "_model_module": "@jupyter-widgets/controls",
            "_model_module_version": "1.5.0",
            "_model_name": "HTMLModel",
            "_view_count": null,
            "_view_module": "@jupyter-widgets/controls",
            "_view_module_version": "1.5.0",
            "_view_name": "HTMLView",
            "description": "",
            "description_tooltip": null,
            "layout": "IPY_MODEL_7f688528fa6b4fcaaa015d357195614a",
            "placeholder": "​",
            "style": "IPY_MODEL_8fc1ec7d783b45899829a1160e2bf738",
            "value": " 61/61 [00:03&lt;00:00, 25.31it/s]"
          }
        },
        "6e35428e50764f1d84ea1ef1b25146a5": {
          "model_module": "@jupyter-widgets/base",
          "model_name": "LayoutModel",
          "model_module_version": "1.2.0",
          "state": {
            "_model_module": "@jupyter-widgets/base",
            "_model_module_version": "1.2.0",
            "_model_name": "LayoutModel",
            "_view_count": null,
            "_view_module": "@jupyter-widgets/base",
            "_view_module_version": "1.2.0",
            "_view_name": "LayoutView",
            "align_content": null,
            "align_items": null,
            "align_self": null,
            "border": null,
            "bottom": null,
            "display": null,
            "flex": null,
            "flex_flow": null,
            "grid_area": null,
            "grid_auto_columns": null,
            "grid_auto_flow": null,
            "grid_auto_rows": null,
            "grid_column": null,
            "grid_gap": null,
            "grid_row": null,
            "grid_template_areas": null,
            "grid_template_columns": null,
            "grid_template_rows": null,
            "height": null,
            "justify_content": null,
            "justify_items": null,
            "left": null,
            "margin": null,
            "max_height": null,
            "max_width": null,
            "min_height": null,
            "min_width": null,
            "object_fit": null,
            "object_position": null,
            "order": null,
            "overflow": null,
            "overflow_x": null,
            "overflow_y": null,
            "padding": null,
            "right": null,
            "top": null,
            "visibility": null,
            "width": null
          }
        },
        "810ebd9fd66046fa9b43fbc64dcecec6": {
          "model_module": "@jupyter-widgets/base",
          "model_name": "LayoutModel",
          "model_module_version": "1.2.0",
          "state": {
            "_model_module": "@jupyter-widgets/base",
            "_model_module_version": "1.2.0",
            "_model_name": "LayoutModel",
            "_view_count": null,
            "_view_module": "@jupyter-widgets/base",
            "_view_module_version": "1.2.0",
            "_view_name": "LayoutView",
            "align_content": null,
            "align_items": null,
            "align_self": null,
            "border": null,
            "bottom": null,
            "display": null,
            "flex": null,
            "flex_flow": null,
            "grid_area": null,
            "grid_auto_columns": null,
            "grid_auto_flow": null,
            "grid_auto_rows": null,
            "grid_column": null,
            "grid_gap": null,
            "grid_row": null,
            "grid_template_areas": null,
            "grid_template_columns": null,
            "grid_template_rows": null,
            "height": null,
            "justify_content": null,
            "justify_items": null,
            "left": null,
            "margin": null,
            "max_height": null,
            "max_width": null,
            "min_height": null,
            "min_width": null,
            "object_fit": null,
            "object_position": null,
            "order": null,
            "overflow": null,
            "overflow_x": null,
            "overflow_y": null,
            "padding": null,
            "right": null,
            "top": null,
            "visibility": null,
            "width": null
          }
        },
        "ea7211f0c3cd4726b88f4fcc46659cd9": {
          "model_module": "@jupyter-widgets/controls",
          "model_name": "DescriptionStyleModel",
          "model_module_version": "1.5.0",
          "state": {
            "_model_module": "@jupyter-widgets/controls",
            "_model_module_version": "1.5.0",
            "_model_name": "DescriptionStyleModel",
            "_view_count": null,
            "_view_module": "@jupyter-widgets/base",
            "_view_module_version": "1.2.0",
            "_view_name": "StyleView",
            "description_width": ""
          }
        },
        "37b742d824bb43819f644775a48f7d34": {
          "model_module": "@jupyter-widgets/base",
          "model_name": "LayoutModel",
          "model_module_version": "1.2.0",
          "state": {
            "_model_module": "@jupyter-widgets/base",
            "_model_module_version": "1.2.0",
            "_model_name": "LayoutModel",
            "_view_count": null,
            "_view_module": "@jupyter-widgets/base",
            "_view_module_version": "1.2.0",
            "_view_name": "LayoutView",
            "align_content": null,
            "align_items": null,
            "align_self": null,
            "border": null,
            "bottom": null,
            "display": null,
            "flex": null,
            "flex_flow": null,
            "grid_area": null,
            "grid_auto_columns": null,
            "grid_auto_flow": null,
            "grid_auto_rows": null,
            "grid_column": null,
            "grid_gap": null,
            "grid_row": null,
            "grid_template_areas": null,
            "grid_template_columns": null,
            "grid_template_rows": null,
            "height": null,
            "justify_content": null,
            "justify_items": null,
            "left": null,
            "margin": null,
            "max_height": null,
            "max_width": null,
            "min_height": null,
            "min_width": null,
            "object_fit": null,
            "object_position": null,
            "order": null,
            "overflow": null,
            "overflow_x": null,
            "overflow_y": null,
            "padding": null,
            "right": null,
            "top": null,
            "visibility": null,
            "width": null
          }
        },
        "5f7859a3d03441d2b320fa683d705834": {
          "model_module": "@jupyter-widgets/controls",
          "model_name": "ProgressStyleModel",
          "model_module_version": "1.5.0",
          "state": {
            "_model_module": "@jupyter-widgets/controls",
            "_model_module_version": "1.5.0",
            "_model_name": "ProgressStyleModel",
            "_view_count": null,
            "_view_module": "@jupyter-widgets/base",
            "_view_module_version": "1.2.0",
            "_view_name": "StyleView",
            "bar_color": null,
            "description_width": ""
          }
        },
        "7f688528fa6b4fcaaa015d357195614a": {
          "model_module": "@jupyter-widgets/base",
          "model_name": "LayoutModel",
          "model_module_version": "1.2.0",
          "state": {
            "_model_module": "@jupyter-widgets/base",
            "_model_module_version": "1.2.0",
            "_model_name": "LayoutModel",
            "_view_count": null,
            "_view_module": "@jupyter-widgets/base",
            "_view_module_version": "1.2.0",
            "_view_name": "LayoutView",
            "align_content": null,
            "align_items": null,
            "align_self": null,
            "border": null,
            "bottom": null,
            "display": null,
            "flex": null,
            "flex_flow": null,
            "grid_area": null,
            "grid_auto_columns": null,
            "grid_auto_flow": null,
            "grid_auto_rows": null,
            "grid_column": null,
            "grid_gap": null,
            "grid_row": null,
            "grid_template_areas": null,
            "grid_template_columns": null,
            "grid_template_rows": null,
            "height": null,
            "justify_content": null,
            "justify_items": null,
            "left": null,
            "margin": null,
            "max_height": null,
            "max_width": null,
            "min_height": null,
            "min_width": null,
            "object_fit": null,
            "object_position": null,
            "order": null,
            "overflow": null,
            "overflow_x": null,
            "overflow_y": null,
            "padding": null,
            "right": null,
            "top": null,
            "visibility": null,
            "width": null
          }
        },
        "8fc1ec7d783b45899829a1160e2bf738": {
          "model_module": "@jupyter-widgets/controls",
          "model_name": "DescriptionStyleModel",
          "model_module_version": "1.5.0",
          "state": {
            "_model_module": "@jupyter-widgets/controls",
            "_model_module_version": "1.5.0",
            "_model_name": "DescriptionStyleModel",
            "_view_count": null,
            "_view_module": "@jupyter-widgets/base",
            "_view_module_version": "1.2.0",
            "_view_name": "StyleView",
            "description_width": ""
          }
        },
        "5b31db43cf8a48ea8c28f7a18aecc28f": {
          "model_module": "@jupyter-widgets/controls",
          "model_name": "HBoxModel",
          "model_module_version": "1.5.0",
          "state": {
            "_dom_classes": [],
            "_model_module": "@jupyter-widgets/controls",
            "_model_module_version": "1.5.0",
            "_model_name": "HBoxModel",
            "_view_count": null,
            "_view_module": "@jupyter-widgets/controls",
            "_view_module_version": "1.5.0",
            "_view_name": "HBoxView",
            "box_style": "",
            "children": [
              "IPY_MODEL_20166d1ee72d43f99320b886e10792a0",
              "IPY_MODEL_c2ba0696d3d1466e96aa22da4c098501",
              "IPY_MODEL_c84936b84c7e4fc787848d58646da8a1"
            ],
            "layout": "IPY_MODEL_7fc89d699047439e83b55eee0ca00a19"
          }
        },
        "20166d1ee72d43f99320b886e10792a0": {
          "model_module": "@jupyter-widgets/controls",
          "model_name": "HTMLModel",
          "model_module_version": "1.5.0",
          "state": {
            "_dom_classes": [],
            "_model_module": "@jupyter-widgets/controls",
            "_model_module_version": "1.5.0",
            "_model_name": "HTMLModel",
            "_view_count": null,
            "_view_module": "@jupyter-widgets/controls",
            "_view_module_version": "1.5.0",
            "_view_name": "HTMLView",
            "description": "",
            "description_tooltip": null,
            "layout": "IPY_MODEL_f621778f41ce448eadfd4beaa04485a9",
            "placeholder": "​",
            "style": "IPY_MODEL_e0d72d1b8b7f40609b7afea009d3d224",
            "value": "100%"
          }
        },
        "c2ba0696d3d1466e96aa22da4c098501": {
          "model_module": "@jupyter-widgets/controls",
          "model_name": "FloatProgressModel",
          "model_module_version": "1.5.0",
          "state": {
            "_dom_classes": [],
            "_model_module": "@jupyter-widgets/controls",
            "_model_module_version": "1.5.0",
            "_model_name": "FloatProgressModel",
            "_view_count": null,
            "_view_module": "@jupyter-widgets/controls",
            "_view_module_version": "1.5.0",
            "_view_name": "ProgressView",
            "bar_style": "success",
            "description": "",
            "description_tooltip": null,
            "layout": "IPY_MODEL_6b0247e674f346cfba7b2be5675782fa",
            "max": 61,
            "min": 0,
            "orientation": "horizontal",
            "style": "IPY_MODEL_ac1f75fb46174d2e993464fced2d1afc",
            "value": 61
          }
        },
        "c84936b84c7e4fc787848d58646da8a1": {
          "model_module": "@jupyter-widgets/controls",
          "model_name": "HTMLModel",
          "model_module_version": "1.5.0",
          "state": {
            "_dom_classes": [],
            "_model_module": "@jupyter-widgets/controls",
            "_model_module_version": "1.5.0",
            "_model_name": "HTMLModel",
            "_view_count": null,
            "_view_module": "@jupyter-widgets/controls",
            "_view_module_version": "1.5.0",
            "_view_name": "HTMLView",
            "description": "",
            "description_tooltip": null,
            "layout": "IPY_MODEL_ce85a532f4a84e68bd1cb79fcaec1420",
            "placeholder": "​",
            "style": "IPY_MODEL_76ca1377dfdb422d8a8bb54b8a5f44b1",
            "value": " 61/61 [00:03&lt;00:00, 24.59it/s]"
          }
        },
        "7fc89d699047439e83b55eee0ca00a19": {
          "model_module": "@jupyter-widgets/base",
          "model_name": "LayoutModel",
          "model_module_version": "1.2.0",
          "state": {
            "_model_module": "@jupyter-widgets/base",
            "_model_module_version": "1.2.0",
            "_model_name": "LayoutModel",
            "_view_count": null,
            "_view_module": "@jupyter-widgets/base",
            "_view_module_version": "1.2.0",
            "_view_name": "LayoutView",
            "align_content": null,
            "align_items": null,
            "align_self": null,
            "border": null,
            "bottom": null,
            "display": null,
            "flex": null,
            "flex_flow": null,
            "grid_area": null,
            "grid_auto_columns": null,
            "grid_auto_flow": null,
            "grid_auto_rows": null,
            "grid_column": null,
            "grid_gap": null,
            "grid_row": null,
            "grid_template_areas": null,
            "grid_template_columns": null,
            "grid_template_rows": null,
            "height": null,
            "justify_content": null,
            "justify_items": null,
            "left": null,
            "margin": null,
            "max_height": null,
            "max_width": null,
            "min_height": null,
            "min_width": null,
            "object_fit": null,
            "object_position": null,
            "order": null,
            "overflow": null,
            "overflow_x": null,
            "overflow_y": null,
            "padding": null,
            "right": null,
            "top": null,
            "visibility": null,
            "width": null
          }
        },
        "f621778f41ce448eadfd4beaa04485a9": {
          "model_module": "@jupyter-widgets/base",
          "model_name": "LayoutModel",
          "model_module_version": "1.2.0",
          "state": {
            "_model_module": "@jupyter-widgets/base",
            "_model_module_version": "1.2.0",
            "_model_name": "LayoutModel",
            "_view_count": null,
            "_view_module": "@jupyter-widgets/base",
            "_view_module_version": "1.2.0",
            "_view_name": "LayoutView",
            "align_content": null,
            "align_items": null,
            "align_self": null,
            "border": null,
            "bottom": null,
            "display": null,
            "flex": null,
            "flex_flow": null,
            "grid_area": null,
            "grid_auto_columns": null,
            "grid_auto_flow": null,
            "grid_auto_rows": null,
            "grid_column": null,
            "grid_gap": null,
            "grid_row": null,
            "grid_template_areas": null,
            "grid_template_columns": null,
            "grid_template_rows": null,
            "height": null,
            "justify_content": null,
            "justify_items": null,
            "left": null,
            "margin": null,
            "max_height": null,
            "max_width": null,
            "min_height": null,
            "min_width": null,
            "object_fit": null,
            "object_position": null,
            "order": null,
            "overflow": null,
            "overflow_x": null,
            "overflow_y": null,
            "padding": null,
            "right": null,
            "top": null,
            "visibility": null,
            "width": null
          }
        },
        "e0d72d1b8b7f40609b7afea009d3d224": {
          "model_module": "@jupyter-widgets/controls",
          "model_name": "DescriptionStyleModel",
          "model_module_version": "1.5.0",
          "state": {
            "_model_module": "@jupyter-widgets/controls",
            "_model_module_version": "1.5.0",
            "_model_name": "DescriptionStyleModel",
            "_view_count": null,
            "_view_module": "@jupyter-widgets/base",
            "_view_module_version": "1.2.0",
            "_view_name": "StyleView",
            "description_width": ""
          }
        },
        "6b0247e674f346cfba7b2be5675782fa": {
          "model_module": "@jupyter-widgets/base",
          "model_name": "LayoutModel",
          "model_module_version": "1.2.0",
          "state": {
            "_model_module": "@jupyter-widgets/base",
            "_model_module_version": "1.2.0",
            "_model_name": "LayoutModel",
            "_view_count": null,
            "_view_module": "@jupyter-widgets/base",
            "_view_module_version": "1.2.0",
            "_view_name": "LayoutView",
            "align_content": null,
            "align_items": null,
            "align_self": null,
            "border": null,
            "bottom": null,
            "display": null,
            "flex": null,
            "flex_flow": null,
            "grid_area": null,
            "grid_auto_columns": null,
            "grid_auto_flow": null,
            "grid_auto_rows": null,
            "grid_column": null,
            "grid_gap": null,
            "grid_row": null,
            "grid_template_areas": null,
            "grid_template_columns": null,
            "grid_template_rows": null,
            "height": null,
            "justify_content": null,
            "justify_items": null,
            "left": null,
            "margin": null,
            "max_height": null,
            "max_width": null,
            "min_height": null,
            "min_width": null,
            "object_fit": null,
            "object_position": null,
            "order": null,
            "overflow": null,
            "overflow_x": null,
            "overflow_y": null,
            "padding": null,
            "right": null,
            "top": null,
            "visibility": null,
            "width": null
          }
        },
        "ac1f75fb46174d2e993464fced2d1afc": {
          "model_module": "@jupyter-widgets/controls",
          "model_name": "ProgressStyleModel",
          "model_module_version": "1.5.0",
          "state": {
            "_model_module": "@jupyter-widgets/controls",
            "_model_module_version": "1.5.0",
            "_model_name": "ProgressStyleModel",
            "_view_count": null,
            "_view_module": "@jupyter-widgets/base",
            "_view_module_version": "1.2.0",
            "_view_name": "StyleView",
            "bar_color": null,
            "description_width": ""
          }
        },
        "ce85a532f4a84e68bd1cb79fcaec1420": {
          "model_module": "@jupyter-widgets/base",
          "model_name": "LayoutModel",
          "model_module_version": "1.2.0",
          "state": {
            "_model_module": "@jupyter-widgets/base",
            "_model_module_version": "1.2.0",
            "_model_name": "LayoutModel",
            "_view_count": null,
            "_view_module": "@jupyter-widgets/base",
            "_view_module_version": "1.2.0",
            "_view_name": "LayoutView",
            "align_content": null,
            "align_items": null,
            "align_self": null,
            "border": null,
            "bottom": null,
            "display": null,
            "flex": null,
            "flex_flow": null,
            "grid_area": null,
            "grid_auto_columns": null,
            "grid_auto_flow": null,
            "grid_auto_rows": null,
            "grid_column": null,
            "grid_gap": null,
            "grid_row": null,
            "grid_template_areas": null,
            "grid_template_columns": null,
            "grid_template_rows": null,
            "height": null,
            "justify_content": null,
            "justify_items": null,
            "left": null,
            "margin": null,
            "max_height": null,
            "max_width": null,
            "min_height": null,
            "min_width": null,
            "object_fit": null,
            "object_position": null,
            "order": null,
            "overflow": null,
            "overflow_x": null,
            "overflow_y": null,
            "padding": null,
            "right": null,
            "top": null,
            "visibility": null,
            "width": null
          }
        },
        "76ca1377dfdb422d8a8bb54b8a5f44b1": {
          "model_module": "@jupyter-widgets/controls",
          "model_name": "DescriptionStyleModel",
          "model_module_version": "1.5.0",
          "state": {
            "_model_module": "@jupyter-widgets/controls",
            "_model_module_version": "1.5.0",
            "_model_name": "DescriptionStyleModel",
            "_view_count": null,
            "_view_module": "@jupyter-widgets/base",
            "_view_module_version": "1.2.0",
            "_view_name": "StyleView",
            "description_width": ""
          }
        }
      }
    }
  },
  "nbformat": 4,
  "nbformat_minor": 0
}